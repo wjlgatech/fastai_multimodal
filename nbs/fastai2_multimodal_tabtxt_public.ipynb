{
  "nbformat": 4,
  "nbformat_minor": 0,
  "metadata": {
    "colab": {
      "name": "fastai2_multimodal_tabtxt_public.ipynb",
      "provenance": [],
      "collapsed_sections": [
        "a7Df2wOIc157",
        "2yXIrPV6XGxr",
        "WyVkVDwNW9f2"
      ],
      "toc_visible": true,
      "machine_shape": "hm"
    },
    "kernelspec": {
      "name": "python3",
      "display_name": "Python 3"
    },
    "language_info": {
      "name": "python"
    }
  },
  "cells": [
    {
      "cell_type": "markdown",
      "metadata": {
        "id": "oycxQmEebNuV"
      },
      "source": [
        "## Intro\n",
        "\n",
        "\n",
        "### Purpose:\n",
        "\n",
        "- To build a tabular + text classification module under the most updated version of fastai (at this point fastai : 2.5.2\n",
        "fastcore : 1.3.26), aiming to be\n",
        "  - easy to use (e.g. fastai API)\n",
        "  - efficent\n",
        "  - stable and ready for production\n",
        "\n",
        "- to extend to regression\n",
        "\n",
        "- To extend to tabular + text + vision\n",
        "\n",
        "\n",
        "\n",
        "### Credits & References:\n",
        "\n",
        "- Zachary Mueller's initiatives https://forums.fast.ai/t/combining-tabular-images-in-fastai2-and-should-work-with-almost-any-other-type/73197\n",
        "\n",
        "- Morgan McGuire's notebook on **Gradient Blending for Multimodal Model**: https://forums.fast.ai/t/gradient-blending-for-multi-modal-models-in-progress/75645/11\n",
        "\n",
        "- Zachary Mueller's explanation on how to construct MixedDL https://www.youtube.com/watch?v=myKgF-d9-N4\n",
        "\n",
        "- tabular+ image+ text https://forums.fast.ai/t/wrote-notebook-to-merge-image-tabular-text-data-in-one-neural-network/43614"
      ]
    },
    {
      "cell_type": "markdown",
      "metadata": {
        "id": "cnlWWe21YgQq"
      },
      "source": [
        "## set up"
      ]
    },
    {
      "cell_type": "code",
      "metadata": {
        "colab": {
          "base_uri": "https://localhost:8080/"
        },
        "id": "J-dqstVoYkwe",
        "outputId": "4fad8674-ed22-4594-da75-ca37e83d7a16"
      },
      "source": [
        "from pathlib import Path\n",
        "path=Path('/content/gdrive/My Drive/data/')\n",
        "path"
      ],
      "execution_count": 1,
      "outputs": [
        {
          "output_type": "execute_result",
          "data": {
            "text/plain": [
              "PosixPath('/content/gdrive/My Drive/data')"
            ]
          },
          "metadata": {},
          "execution_count": 1
        }
      ]
    },
    {
      "cell_type": "markdown",
      "metadata": {
        "id": "a7Df2wOIc157"
      },
      "source": [
        "## install packages"
      ]
    },
    {
      "cell_type": "code",
      "metadata": {
        "id": "l8EjZHRUICHE",
        "colab": {
          "base_uri": "https://localhost:8080/"
        },
        "outputId": "1c6b5b1c-ce1d-4eab-e1f2-2add16eac2e7"
      },
      "source": [
        "!pip install fastai wwf bayesian-optimization -q --upgrade\n",
        "#!pip install wwf\n",
        "#!pip install fastai wwf bayesian-optimization -q --upgrade\n",
        "#!pip install \"fastai==2.0.13\" \"fastcore==1.2.5\" \"torch==1.6.0\""
      ],
      "execution_count": 2,
      "outputs": [
        {
          "output_type": "stream",
          "name": "stdout",
          "text": [
            "\u001b[K     |████████████████████████████████| 186 kB 5.2 MB/s \n",
            "\u001b[K     |████████████████████████████████| 56 kB 3.7 MB/s \n",
            "\u001b[K     |████████████████████████████████| 376 kB 45.7 MB/s \n",
            "\u001b[?25h  Building wheel for bayesian-optimization (setup.py) ... \u001b[?25l\u001b[?25hdone\n"
          ]
        }
      ]
    },
    {
      "cell_type": "markdown",
      "metadata": {
        "id": "2yXIrPV6XGxr"
      },
      "source": [
        "## load packages & define helpers"
      ]
    },
    {
      "cell_type": "code",
      "metadata": {
        "id": "LYxHk7VnXDMy",
        "colab": {
          "base_uri": "https://localhost:8080/",
          "height": 0
        },
        "outputId": "4729b6d0-2a77-4eb5-9b7b-99f3fab4b19b"
      },
      "source": [
        "from wwf.utils import *\n",
        "from fastai.tabular.all import *\n",
        "from fastai.text.all import *\n",
        "from fastai.vision.all import *\n",
        "\n",
        "import pandas as pd\n",
        "import numpy as np\n",
        "import matplotlib.pyplot as plt\n",
        "from sklearn.model_selection import train_test_split\n",
        "\n",
        "state_versions(['fastai', 'fastcore', 'torch'])"
      ],
      "execution_count": 3,
      "outputs": [
        {
          "output_type": "execute_result",
          "data": {
            "text/markdown": "\n---\nThis article is also a Jupyter Notebook available to be run from the top down. There\nwill be code snippets that you can then run in any environment.\n\nBelow are the versions of `fastai`, `fastcore`, and `torch` currently running at the time of writing this:\n* `fastai` : 2.5.2 \n* `fastcore` : 1.3.26 \n* `torch` : 1.9.0+cu111 \n---",
            "text/plain": [
              "<IPython.core.display.Markdown object>"
            ]
          },
          "metadata": {},
          "execution_count": 3
        }
      ]
    },
    {
      "cell_type": "code",
      "metadata": {
        "id": "UMr5dGFvXDVD"
      },
      "source": [
        "# helper functions\n",
        "\n",
        "def split_idxs(df, train_size=.9, flag_random_split=False):\n",
        "    \"\"\" split df index into 2 parts: train_idxs and test_idxs \n",
        "    Args:\n",
        "        df: the dataframe of all your data\n",
        "        train_size (float in [0,1], default 0.9)\n",
        "        flag_random_split(bool, default False): do you want random split idxs?\n",
        "    Returns:\n",
        "        (ls_train, ls_test): a 2-tuple of lists for train indices and test indices\n",
        "\n",
        "    Example:\n",
        "        df = pd.DataFrame({'c1':list(range(26)), 'c2':list(string.ascii_lowercase)})\n",
        "        splits = split_idxs(df)\n",
        "        ...\n",
        "        # use splits to build TabularPandas taublar object\n",
        "        to = TabularPandas(df, \n",
        "                   procs=procs,\n",
        "                   cat_names=cat_names,\n",
        "                   cont_names=cont_names,\n",
        "                   y_names=y_names,\n",
        "                   y_block=y_block,\n",
        "                   splits=splits)\n",
        "    \"\"\"\n",
        "    import random\n",
        "    ls = range_of(df)\n",
        "    print(ls)\n",
        "    if flag_random_split:\n",
        "        splits = RandomSplitter()(ls)\n",
        "    else:\n",
        "        ls_train = ls[:int(df.shape[0]*train_size)]\n",
        "        ls_test = ls[int(df.shape[0]*train_size):]\n",
        "        random.shuffle(ls_train)\n",
        "        random.shuffle(ls_test)\n",
        "        splits = (ls_train, ls_test)\n",
        "    return splits \n",
        "\n",
        "def split_train_valid_test(df, train_valid_test=[0.7,0.15, 0.15], target='response_status', random_state=123, sort_split_by_datetime=True):\n",
        "    '''Splits a Pandas Dataframe into training, evaluation and serving sets, stratifying on target column.\n",
        "\n",
        "    Args:\n",
        "            df : pandas dataframe to split\n",
        "            train_valid_test: a list of 3 positive numbers, each being either float or integer\n",
        "            target (string): the name of target column\n",
        "            random_state (int or None): the random seed to shuffle df; if None, do not shuffle df\n",
        "    Returns:\n",
        "            train_df: Training dataframe(i.e. 70% of the entire dataset)\n",
        "            valid_df: Evaluation dataframe (i.e. 15% of the entire dataset) \n",
        "            X_test, y_test: Serving dataframe (i.e. 15% of the entire dataset, label column dropped)\n",
        "            keep_datetime_order (default True): after splitting data into train < validation < serving\n",
        "    Ref:\n",
        "        C2W1_assignment.ipynb using TFDV to visulize, validate and moritor data at scale\n",
        "    '''\n",
        "    if len(train_valid_test)==3 and not any(x < 0 for x in train_valid_test):\n",
        "        tot = sum(train_valid_test)\n",
        "        train_valid_test = [x/tot for x in train_valid_test]\n",
        "    else: \n",
        "        raise ValueError('train_valid_test need to be a list of 3 positive numbers!')\n",
        "\n",
        "    if sort_split_by_datetime:\n",
        "        df.sort_index(inplace=True)\n",
        "        n_train, n_valid, n_serv= [int(df.shape[0]*n) for n in train_valid_test]\n",
        "        print('================Double check the indices of train, valid and test are sorted: =================== ')\n",
        "        print(f'{df.index[:n_train], df.index[n_train:(n_train+n_valid)], df.index[(n_train+n_valid):]}')\n",
        "        df.reset_index(drop=True, inplace=True)\n",
        "        train_df, valid_df, X_test, y_test  = df.iloc[:n_train,:], df.iloc[n_train:(n_train+n_valid),:], df.iloc[(n_train+n_valid):,:].drop([target], axis=1),df.iloc[(n_train+n_valid):,:][target] \n",
        "        return train_df, valid_df, X_test, y_test\n",
        "\n",
        "    # downstream dl clf can not accept datetime index, therefore df.reset_index()   \n",
        "    df.reset_index(drop=True, inplace=True)\n",
        "    train_df, eval_serv = train_test_split(df, stratify=df[target], test_size = 1 - train_valid_test[0], random_state=random_state)\n",
        "    valid_df, test_df = train_test_split(eval_serv, stratify=eval_serv[target], test_size = train_valid_test[1]/(1 - train_valid_test[0]), random_state=random_state)\n",
        "    \n",
        "    # Serving data emulates the data that would be submitted for predictions, so it should not have the label column.\n",
        "    y_test = test_df[target]\n",
        "    X_test = test_df.drop([target], axis=1)\n",
        "\n",
        "    return train_df, valid_df, X_test, y_test\n",
        "\n",
        "def reset_seed(seed=123):\n",
        "    random.seed(seed)\n",
        "    os.environ['PYTHONHASHSEED'] = str(seed)\n",
        "#     tf.set_random_seed(seed)\n",
        "    np.random.seed(seed)\n",
        "    torch.manual_seed(seed)\n",
        "    torch.backends.cudnn.deterministic = True\n",
        "    if torch.cuda.is_available(): \n",
        "        torch.cuda.manual_seed(seed)\n",
        "        torch.cuda.manual_seed_all(seed)\n",
        "reset_seed()\n",
        "\n",
        "def get_metrics(y_true, y_pred, txt='validation'):\n",
        "    if isinstance(y_true, pd.DataFrame) or isinstance(y_true, pd.Series):\n",
        "        y_true = y_true.values\n",
        "    if isinstance(y_pred, pd.DataFrame) or isinstance(y_pred, pd.Series):\n",
        "        y_pred = y_pred.values\n",
        "    if y_true.ndim>1:\n",
        "        y_true=y_true.ravel()\n",
        "    if y_pred.ndim>1:\n",
        "        y_pred=y_pred.ravel()\n",
        "    from sklearn.metrics import accuracy_score, f1_score, precision_score, recall_score, multilabel_confusion_matrix\n",
        "    accu = accuracy_score(y_true, y_pred)\n",
        "    precision = precision_score(y_true, y_pred, average='weighted')\n",
        "    recall = recall_score(y_true, y_pred, average='weighted')\n",
        "    f1 = f1_score(y_true, y_pred, average='weighted')\n",
        "    #mul_confu = multilabel_confusion_matrix(y_true, y_pred, labels=)\n",
        "    print(f\"{txt}-Accuracy: {accu} |{txt}-Precision: {precision}|{txt}-Recall: {recall} |  {txt}-F1: {f1}\")\n",
        "    return {\"accuracy\": accu,\n",
        "            \"precision\": precision,\n",
        "            \"recall\":recall,\n",
        "            \"f1\":f1}\n",
        "\n",
        "def procs_df(df,y_names, cat_names, cont_names, text_names):\n",
        "    \"\"\"process categorical and continuous features of df through the fastai procs [Categorify, FillMissing, Normalize], while keeping text features un-changed \"\"\"\n",
        "    procs = [Categorify, FillMissing, Normalize]\n",
        "    y_block = CategoryBlock() # to specify it's a single-label classificaiton problem\n",
        "    splits = split_idxs(df, train_size=.9, flag_random_split=False)\n",
        "\n",
        "    # to build TabularPandas taublar object\n",
        "    to = TabularPandas(df, \n",
        "                      procs=procs,\n",
        "                      cat_names=cat_names,\n",
        "                      cont_names=cont_names,\n",
        "                      y_names=y_names,\n",
        "                      y_block=y_block,\n",
        "                      splits=splits)\n",
        "    df0 = to.ys.reset_index(drop=True)\n",
        "    df1 = to.xs.reset_index(drop=True)\n",
        "    df2 = df[text_names].reset_index(drop=True)\n",
        "    df3 = pd.concat([df0, df1, df2], axis=1)\n",
        "    df3.index = df.index # restore index info to resulted df\n",
        "    return df3"
      ],
      "execution_count": 4,
      "outputs": []
    },
    {
      "cell_type": "markdown",
      "metadata": {
        "id": "WyVkVDwNW9f2"
      },
      "source": [
        "## load data\n",
        "\n",
        "Our dataset is the [Womens Clothing E-Commerce Reviews](https://www.kaggle.com/nicapotato/womens-ecommerce-clothing-reviews) dataset from kaggle. It contains reviews written by customers about clothing items as well as whether they recommend the data or not."
      ]
    },
    {
      "cell_type": "code",
      "metadata": {
        "colab": {
          "base_uri": "https://localhost:8080/",
          "height": 0
        },
        "id": "WM_aXiZ1XDYU",
        "outputId": "236d0075-142c-49b7-ef8a-c7123882d1f2"
      },
      "source": [
        "data_file = \"https://raw.githubusercontent.com/wjlgatech/fastai-multimodal/main/data/clothing_review.csv\"\n",
        "df = pd.read_csv(data_file, index_col=0)\n",
        "df"
      ],
      "execution_count": 5,
      "outputs": [
        {
          "output_type": "execute_result",
          "data": {
            "text/html": [
              "<div>\n",
              "<style scoped>\n",
              "    .dataframe tbody tr th:only-of-type {\n",
              "        vertical-align: middle;\n",
              "    }\n",
              "\n",
              "    .dataframe tbody tr th {\n",
              "        vertical-align: top;\n",
              "    }\n",
              "\n",
              "    .dataframe thead th {\n",
              "        text-align: right;\n",
              "    }\n",
              "</style>\n",
              "<table border=\"1\" class=\"dataframe\">\n",
              "  <thead>\n",
              "    <tr style=\"text-align: right;\">\n",
              "      <th></th>\n",
              "      <th>Clothing ID</th>\n",
              "      <th>Age</th>\n",
              "      <th>Title</th>\n",
              "      <th>Review Text</th>\n",
              "      <th>Rating</th>\n",
              "      <th>Recommended IND</th>\n",
              "      <th>Positive Feedback Count</th>\n",
              "      <th>Division Name</th>\n",
              "      <th>Department Name</th>\n",
              "      <th>Class Name</th>\n",
              "    </tr>\n",
              "  </thead>\n",
              "  <tbody>\n",
              "    <tr>\n",
              "      <th>0</th>\n",
              "      <td>767</td>\n",
              "      <td>33</td>\n",
              "      <td>NaN</td>\n",
              "      <td>Absolutely wonderful - silky and sexy and comfortable</td>\n",
              "      <td>4</td>\n",
              "      <td>1</td>\n",
              "      <td>0</td>\n",
              "      <td>Initmates</td>\n",
              "      <td>Intimate</td>\n",
              "      <td>Intimates</td>\n",
              "    </tr>\n",
              "    <tr>\n",
              "      <th>1</th>\n",
              "      <td>1080</td>\n",
              "      <td>34</td>\n",
              "      <td>NaN</td>\n",
              "      <td>Love this dress!  it's sooo pretty.  i happened to find it in a store, and i'm glad i did bc i never would have ordered it online bc it's petite.  i bought a petite and am 5'8\".  i love the length on me- hits just a little below the knee.  would definitely be a true midi on someone who is truly petite.</td>\n",
              "      <td>5</td>\n",
              "      <td>1</td>\n",
              "      <td>4</td>\n",
              "      <td>General</td>\n",
              "      <td>Dresses</td>\n",
              "      <td>Dresses</td>\n",
              "    </tr>\n",
              "    <tr>\n",
              "      <th>2</th>\n",
              "      <td>1077</td>\n",
              "      <td>60</td>\n",
              "      <td>Some major design flaws</td>\n",
              "      <td>I had such high hopes for this dress and really wanted it to work for me. i initially ordered the petite small (my usual size) but i found this to be outrageously small. so small in fact that i could not zip it up! i reordered it in petite medium, which was just ok. overall, the top half was comfortable and fit nicely, but the bottom half had a very tight under layer and several somewhat cheap (net) over layers. imo, a major design flaw was the net over layer sewn directly into the zipper - it c</td>\n",
              "      <td>3</td>\n",
              "      <td>0</td>\n",
              "      <td>0</td>\n",
              "      <td>General</td>\n",
              "      <td>Dresses</td>\n",
              "      <td>Dresses</td>\n",
              "    </tr>\n",
              "    <tr>\n",
              "      <th>3</th>\n",
              "      <td>1049</td>\n",
              "      <td>50</td>\n",
              "      <td>My favorite buy!</td>\n",
              "      <td>I love, love, love this jumpsuit. it's fun, flirty, and fabulous! every time i wear it, i get nothing but great compliments!</td>\n",
              "      <td>5</td>\n",
              "      <td>1</td>\n",
              "      <td>0</td>\n",
              "      <td>General Petite</td>\n",
              "      <td>Bottoms</td>\n",
              "      <td>Pants</td>\n",
              "    </tr>\n",
              "    <tr>\n",
              "      <th>4</th>\n",
              "      <td>847</td>\n",
              "      <td>47</td>\n",
              "      <td>Flattering shirt</td>\n",
              "      <td>This shirt is very flattering to all due to the adjustable front tie. it is the perfect length to wear with leggings and it is sleeveless so it pairs well with any cardigan. love this shirt!!!</td>\n",
              "      <td>5</td>\n",
              "      <td>1</td>\n",
              "      <td>6</td>\n",
              "      <td>General</td>\n",
              "      <td>Tops</td>\n",
              "      <td>Blouses</td>\n",
              "    </tr>\n",
              "    <tr>\n",
              "      <th>...</th>\n",
              "      <td>...</td>\n",
              "      <td>...</td>\n",
              "      <td>...</td>\n",
              "      <td>...</td>\n",
              "      <td>...</td>\n",
              "      <td>...</td>\n",
              "      <td>...</td>\n",
              "      <td>...</td>\n",
              "      <td>...</td>\n",
              "      <td>...</td>\n",
              "    </tr>\n",
              "    <tr>\n",
              "      <th>23481</th>\n",
              "      <td>1104</td>\n",
              "      <td>34</td>\n",
              "      <td>Great dress for many occasions</td>\n",
              "      <td>I was very happy to snag this dress at such a great price! it's very easy to slip on and has a very flattering cut and color combo.</td>\n",
              "      <td>5</td>\n",
              "      <td>1</td>\n",
              "      <td>0</td>\n",
              "      <td>General Petite</td>\n",
              "      <td>Dresses</td>\n",
              "      <td>Dresses</td>\n",
              "    </tr>\n",
              "    <tr>\n",
              "      <th>23482</th>\n",
              "      <td>862</td>\n",
              "      <td>48</td>\n",
              "      <td>Wish it was made of cotton</td>\n",
              "      <td>It reminds me of maternity clothes. soft, stretchy, shiny material. cut is flattering and drapes nicely. i only found one button to close front... looked awkward. nice long sleeves.\\nnot for me but maybe for others. just ok.</td>\n",
              "      <td>3</td>\n",
              "      <td>1</td>\n",
              "      <td>0</td>\n",
              "      <td>General Petite</td>\n",
              "      <td>Tops</td>\n",
              "      <td>Knits</td>\n",
              "    </tr>\n",
              "    <tr>\n",
              "      <th>23483</th>\n",
              "      <td>1104</td>\n",
              "      <td>31</td>\n",
              "      <td>Cute, but see through</td>\n",
              "      <td>This fit well, but the top was very see through. this never would have worked for me. i'm glad i was able to try it on in the store and didn't order it online. with different fabric, it would have been great.</td>\n",
              "      <td>3</td>\n",
              "      <td>0</td>\n",
              "      <td>1</td>\n",
              "      <td>General Petite</td>\n",
              "      <td>Dresses</td>\n",
              "      <td>Dresses</td>\n",
              "    </tr>\n",
              "    <tr>\n",
              "      <th>23484</th>\n",
              "      <td>1084</td>\n",
              "      <td>28</td>\n",
              "      <td>Very cute dress, perfect for summer parties and we</td>\n",
              "      <td>I bought this dress for a wedding i have this summer, and it's so cute. unfortunately the fit isn't perfect. the medium fits my waist perfectly, but was way too long and too big in the bust and shoulders. if i wanted to spend the money, i could get it tailored, but i just felt like it might not be worth it. side note - this dress was delivered to me with a nordstrom tag on it and i found it much cheaper there after looking!</td>\n",
              "      <td>3</td>\n",
              "      <td>1</td>\n",
              "      <td>2</td>\n",
              "      <td>General</td>\n",
              "      <td>Dresses</td>\n",
              "      <td>Dresses</td>\n",
              "    </tr>\n",
              "    <tr>\n",
              "      <th>23485</th>\n",
              "      <td>1104</td>\n",
              "      <td>52</td>\n",
              "      <td>Please make more like this one!</td>\n",
              "      <td>This dress in a lovely platinum is feminine and fits perfectly, easy to wear and comfy, too! highly recommend!</td>\n",
              "      <td>5</td>\n",
              "      <td>1</td>\n",
              "      <td>22</td>\n",
              "      <td>General Petite</td>\n",
              "      <td>Dresses</td>\n",
              "      <td>Dresses</td>\n",
              "    </tr>\n",
              "  </tbody>\n",
              "</table>\n",
              "<p>23486 rows × 10 columns</p>\n",
              "</div>"
            ],
            "text/plain": [
              "       Clothing ID  Age  ... Department Name Class Name\n",
              "0              767   33  ...        Intimate  Intimates\n",
              "1             1080   34  ...         Dresses    Dresses\n",
              "2             1077   60  ...         Dresses    Dresses\n",
              "3             1049   50  ...         Bottoms      Pants\n",
              "4              847   47  ...            Tops    Blouses\n",
              "...            ...  ...  ...             ...        ...\n",
              "23481         1104   34  ...         Dresses    Dresses\n",
              "23482          862   48  ...            Tops      Knits\n",
              "23483         1104   31  ...         Dresses    Dresses\n",
              "23484         1084   28  ...         Dresses    Dresses\n",
              "23485         1104   52  ...         Dresses    Dresses\n",
              "\n",
              "[23486 rows x 10 columns]"
            ]
          },
          "metadata": {},
          "execution_count": 5
        }
      ]
    },
    {
      "cell_type": "code",
      "metadata": {
        "id": "KKJfjAbYWp3J",
        "colab": {
          "base_uri": "https://localhost:8080/"
        },
        "outputId": "383b0b84-59d2-4f94-eb7b-3f94e5c47d4b"
      },
      "source": [
        "y_names = 'Recommended IND'\n",
        "text_names =  ['Title', 'Review Text']\n",
        "cat_names = ['Clothing ID', 'Division Name', 'Department Name', 'Class Name']\n",
        "cont_names = ['Rating', 'Age', 'Positive Feedback Count']\n",
        "\n",
        "#double check\n",
        "y_names, text_names, cat_names, cont_names"
      ],
      "execution_count": 6,
      "outputs": [
        {
          "output_type": "execute_result",
          "data": {
            "text/plain": [
              "('Recommended IND',\n",
              " ['Title', 'Review Text'],\n",
              " ['Clothing ID', 'Division Name', 'Department Name', 'Class Name'],\n",
              " ['Rating', 'Age', 'Positive Feedback Count'])"
            ]
          },
          "metadata": {},
          "execution_count": 6
        }
      ]
    },
    {
      "cell_type": "code",
      "metadata": {
        "colab": {
          "base_uri": "https://localhost:8080/"
        },
        "id": "-pjFLLm7fSHi",
        "outputId": "e8d55aa1-c4bb-4fbf-cb61-9173683330ce"
      },
      "source": [
        "train_df, valid_df, X_test, y_test = split_train_valid_test(df, train_valid_test=[0.7,0.15, 0.15], target=y_names, random_state=123, sort_split_by_datetime=False)\n",
        "\n",
        "# dbck\n",
        "train_df.shape, valid_df.shape, X_test.shape, y_test.shape"
      ],
      "execution_count": 7,
      "outputs": [
        {
          "output_type": "execute_result",
          "data": {
            "text/plain": [
              "((16440, 10), (3523, 10), (3523, 9), (3523,))"
            ]
          },
          "metadata": {},
          "execution_count": 7
        }
      ]
    },
    {
      "cell_type": "markdown",
      "metadata": {
        "id": "6m8-JxJ5feKz"
      },
      "source": [
        "## Build Tabular Classifer"
      ]
    },
    {
      "cell_type": "markdown",
      "metadata": {
        "id": "xw1Aj7xuqr8D"
      },
      "source": [
        "### Tabular DataLoader"
      ]
    },
    {
      "cell_type": "code",
      "metadata": {
        "id": "t4r14CQ2zpef"
      },
      "source": [
        "tab_cols = [y_names]+cat_names+cont_names\n",
        "procs = [Categorify, FillMissing, Normalize]\n",
        "\n",
        "flag_random_split=True\n",
        "if flag_random_split:\n",
        "    splitter = RandomSplitter(seed=42)\n",
        "    splits = splitter(range_of(df))\n",
        "else:\n",
        "    splits = (list(train_df.index), list(valid_df.index))\n",
        "\n",
        "flag_gpu_cpu=False\n",
        "if flag_gpu_cpu:\n",
        "    device=torch.device('cuda:0' if torch.cuda.is_available() else 'cpu')\n",
        "else:\n",
        "    device = torch.device(\"cpu\")"
      ],
      "execution_count": 10,
      "outputs": []
    },
    {
      "cell_type": "code",
      "metadata": {
        "id": "smtTg2sifSKH",
        "colab": {
          "base_uri": "https://localhost:8080/",
          "height": 441
        },
        "outputId": "871ab7e5-b52b-46bc-c323-2d1103669f3f"
      },
      "source": [
        "to = TabularPandas(df[tab_cols], \n",
        "                   procs, \n",
        "                   cat_names, \n",
        "                   cont_names,\n",
        "                   y_names=y_names, \n",
        "                   y_block=CategoryBlock(),\n",
        "                   splits=splits)\n",
        "dls_tab = to.dataloaders(bs=64) \n",
        "dls_tab.show_batch(max_n=3)"
      ],
      "execution_count": 12,
      "outputs": [
        {
          "output_type": "display_data",
          "data": {
            "text/html": [
              "<table border=\"1\" class=\"dataframe\">\n",
              "  <thead>\n",
              "    <tr style=\"text-align: right;\">\n",
              "      <th></th>\n",
              "      <th>Clothing ID</th>\n",
              "      <th>Division Name</th>\n",
              "      <th>Department Name</th>\n",
              "      <th>Class Name</th>\n",
              "      <th>Rating</th>\n",
              "      <th>Age</th>\n",
              "      <th>Positive Feedback Count</th>\n",
              "      <th>Recommended IND</th>\n",
              "    </tr>\n",
              "  </thead>\n",
              "  <tbody>\n",
              "    <tr>\n",
              "      <th>0</th>\n",
              "      <td>1059</td>\n",
              "      <td>General Petite</td>\n",
              "      <td>Bottoms</td>\n",
              "      <td>Pants</td>\n",
              "      <td>4.0</td>\n",
              "      <td>31.000000</td>\n",
              "      <td>1.000000e+00</td>\n",
              "      <td>1</td>\n",
              "    </tr>\n",
              "    <tr>\n",
              "      <th>1</th>\n",
              "      <td>1033</td>\n",
              "      <td>General</td>\n",
              "      <td>Bottoms</td>\n",
              "      <td>Jeans</td>\n",
              "      <td>4.0</td>\n",
              "      <td>29.000000</td>\n",
              "      <td>7.000000e+00</td>\n",
              "      <td>1</td>\n",
              "    </tr>\n",
              "    <tr>\n",
              "      <th>2</th>\n",
              "      <td>862</td>\n",
              "      <td>General Petite</td>\n",
              "      <td>Tops</td>\n",
              "      <td>Knits</td>\n",
              "      <td>1.0</td>\n",
              "      <td>45.000000</td>\n",
              "      <td>1.000000e+00</td>\n",
              "      <td>0</td>\n",
              "    </tr>\n",
              "    <tr>\n",
              "      <th>3</th>\n",
              "      <td>1094</td>\n",
              "      <td>General Petite</td>\n",
              "      <td>Dresses</td>\n",
              "      <td>Dresses</td>\n",
              "      <td>5.0</td>\n",
              "      <td>63.999999</td>\n",
              "      <td>5.000000e+00</td>\n",
              "      <td>1</td>\n",
              "    </tr>\n",
              "    <tr>\n",
              "      <th>4</th>\n",
              "      <td>943</td>\n",
              "      <td>General</td>\n",
              "      <td>Tops</td>\n",
              "      <td>Sweaters</td>\n",
              "      <td>3.0</td>\n",
              "      <td>74.999999</td>\n",
              "      <td>-1.312539e-08</td>\n",
              "      <td>0</td>\n",
              "    </tr>\n",
              "    <tr>\n",
              "      <th>5</th>\n",
              "      <td>877</td>\n",
              "      <td>General</td>\n",
              "      <td>Tops</td>\n",
              "      <td>Knits</td>\n",
              "      <td>5.0</td>\n",
              "      <td>46.000000</td>\n",
              "      <td>-1.312539e-08</td>\n",
              "      <td>1</td>\n",
              "    </tr>\n",
              "    <tr>\n",
              "      <th>6</th>\n",
              "      <td>1183</td>\n",
              "      <td>General</td>\n",
              "      <td>Tops</td>\n",
              "      <td>Knits</td>\n",
              "      <td>5.0</td>\n",
              "      <td>35.000000</td>\n",
              "      <td>3.000000e+00</td>\n",
              "      <td>1</td>\n",
              "    </tr>\n",
              "    <tr>\n",
              "      <th>7</th>\n",
              "      <td>867</td>\n",
              "      <td>General</td>\n",
              "      <td>Tops</td>\n",
              "      <td>Knits</td>\n",
              "      <td>5.0</td>\n",
              "      <td>32.000000</td>\n",
              "      <td>-1.312539e-08</td>\n",
              "      <td>1</td>\n",
              "    </tr>\n",
              "    <tr>\n",
              "      <th>8</th>\n",
              "      <td>868</td>\n",
              "      <td>General</td>\n",
              "      <td>Tops</td>\n",
              "      <td>Knits</td>\n",
              "      <td>1.0</td>\n",
              "      <td>37.000000</td>\n",
              "      <td>-1.312539e-08</td>\n",
              "      <td>0</td>\n",
              "    </tr>\n",
              "    <tr>\n",
              "      <th>9</th>\n",
              "      <td>854</td>\n",
              "      <td>General</td>\n",
              "      <td>Tops</td>\n",
              "      <td>Knits</td>\n",
              "      <td>5.0</td>\n",
              "      <td>44.000000</td>\n",
              "      <td>1.000000e+00</td>\n",
              "      <td>1</td>\n",
              "    </tr>\n",
              "  </tbody>\n",
              "</table>"
            ],
            "text/plain": [
              "<IPython.core.display.HTML object>"
            ]
          },
          "metadata": {}
        }
      ]
    },
    {
      "cell_type": "code",
      "metadata": {
        "id": "LESG326unfbI"
      },
      "source": [
        "#metrics\n",
        "f1=FBeta(beta=1, average='weighted')\n",
        "precision = Precision(average='weighted')\n",
        "recall = Recall(average='weighted')\n",
        "metrics=[accuracy, precision, recall, f1]"
      ],
      "execution_count": 13,
      "outputs": []
    },
    {
      "cell_type": "markdown",
      "metadata": {
        "id": "XiTSjCoU5m9N"
      },
      "source": [
        "### Tabular Learner"
      ]
    },
    {
      "cell_type": "code",
      "metadata": {
        "id": "mhe4asmInfdu",
        "colab": {
          "base_uri": "https://localhost:8080/",
          "height": 444
        },
        "outputId": "c8caea01-b83e-4b26-aff5-b2fdb004f62d"
      },
      "source": [
        "learn_tab = tabular_learner(dls=dls_tab, layers=[200,100], metrics=metrics)\n",
        "lr=list(learn_tab.lr_find())[0]\n",
        "learn_tab.fit_flat_cos(100, cbs=[EarlyStoppingCallback()], lr=lr)"
      ],
      "execution_count": 38,
      "outputs": [
        {
          "output_type": "display_data",
          "data": {
            "text/html": [
              ""
            ],
            "text/plain": [
              "<IPython.core.display.HTML object>"
            ]
          },
          "metadata": {}
        },
        {
          "output_type": "display_data",
          "data": {
            "text/html": [
              "<table border=\"1\" class=\"dataframe\">\n",
              "  <thead>\n",
              "    <tr style=\"text-align: left;\">\n",
              "      <th>epoch</th>\n",
              "      <th>train_loss</th>\n",
              "      <th>valid_loss</th>\n",
              "      <th>accuracy</th>\n",
              "      <th>precision_score</th>\n",
              "      <th>recall_score</th>\n",
              "      <th>fbeta_score</th>\n",
              "      <th>time</th>\n",
              "    </tr>\n",
              "  </thead>\n",
              "  <tbody>\n",
              "    <tr>\n",
              "      <td>0</td>\n",
              "      <td>0.171351</td>\n",
              "      <td>0.154867</td>\n",
              "      <td>0.936555</td>\n",
              "      <td>0.944082</td>\n",
              "      <td>0.936555</td>\n",
              "      <td>0.938713</td>\n",
              "      <td>00:04</td>\n",
              "    </tr>\n",
              "    <tr>\n",
              "      <td>1</td>\n",
              "      <td>0.150348</td>\n",
              "      <td>0.152932</td>\n",
              "      <td>0.936342</td>\n",
              "      <td>0.943704</td>\n",
              "      <td>0.936342</td>\n",
              "      <td>0.938474</td>\n",
              "      <td>00:04</td>\n",
              "    </tr>\n",
              "    <tr>\n",
              "      <td>2</td>\n",
              "      <td>0.137638</td>\n",
              "      <td>0.161810</td>\n",
              "      <td>0.932936</td>\n",
              "      <td>0.936492</td>\n",
              "      <td>0.932936</td>\n",
              "      <td>0.934234</td>\n",
              "      <td>00:04</td>\n",
              "    </tr>\n",
              "  </tbody>\n",
              "</table>"
            ],
            "text/plain": [
              "<IPython.core.display.HTML object>"
            ]
          },
          "metadata": {}
        },
        {
          "output_type": "stream",
          "name": "stdout",
          "text": [
            "No improvement since epoch 1: early stopping\n"
          ]
        },
        {
          "output_type": "display_data",
          "data": {
            "image/png": "[encoded data removed]",
            "text/plain": [
              "<Figure size 432x288 with 1 Axes>"
            ]
          },
          "metadata": {
            "needs_background": "light"
          }
        }
      ]
    },
    {
      "cell_type": "markdown",
      "metadata": {
        "id": "SOOBG7qgp6ju"
      },
      "source": [
        "## Build Text Classifier"
      ]
    },
    {
      "cell_type": "markdown",
      "metadata": {
        "id": "Qs2CPfj97XCS"
      },
      "source": [
        "### Text DataLoader"
      ]
    },
    {
      "cell_type": "code",
      "metadata": {
        "id": "S5eznrOofSM8",
        "colab": {
          "base_uri": "https://localhost:8080/",
          "height": 70
        },
        "outputId": "ca7702ee-c850-4180-9fa4-a4603427033e"
      },
      "source": [
        "# language model dataloaders\n",
        "dls_lm = TextDataLoaders.from_df(df,\n",
        "                                 path=path,\n",
        "                                 text_col=text_names, \n",
        "                                 is_lm=True, \n",
        "                                 label_col=y_names,\n",
        "                                 splits=splits, \n",
        "                                 bs=64)\n",
        "\n"
      ],
      "execution_count": 14,
      "outputs": [
        {
          "output_type": "display_data",
          "data": {
            "text/html": [
              ""
            ],
            "text/plain": [
              "<IPython.core.display.HTML object>"
            ]
          },
          "metadata": {}
        },
        {
          "output_type": "stream",
          "name": "stderr",
          "text": [
            "/usr/local/lib/python3.7/dist-packages/numpy/core/_asarray.py:83: VisibleDeprecationWarning: Creating an ndarray from ragged nested sequences (which is a list-or-tuple of lists-or-tuples-or ndarrays with different lengths or shapes) is deprecated. If you meant to do this, you must specify 'dtype=object' when creating the ndarray\n",
            "  return array(a, dtype, copy=False, order=order)\n"
          ]
        }
      ]
    },
    {
      "cell_type": "code",
      "metadata": {
        "colab": {
          "base_uri": "https://localhost:8080/",
          "height": 1000
        },
        "id": "iKEbfD56rd6Q",
        "outputId": "0dc40439-af28-41be-a10f-2d7ab635190b"
      },
      "source": [
        "# text-classification dataloaders\n",
        "dls_txt = TextDataLoaders.from_df(df, \n",
        "                                 path=path, \n",
        "                                 text_col=text_names,\n",
        "                                 label_col=y_names, \n",
        "                                 bs=64, \n",
        "                                 text_vocab = dls_lm.vocab,\n",
        "                                 splits=splits\n",
        "                                 )\n",
        "dls_txt.show_batch()"
      ],
      "execution_count": 15,
      "outputs": [
        {
          "output_type": "display_data",
          "data": {
            "text/html": [
              ""
            ],
            "text/plain": [
              "<IPython.core.display.HTML object>"
            ]
          },
          "metadata": {}
        },
        {
          "output_type": "stream",
          "name": "stderr",
          "text": [
            "/usr/local/lib/python3.7/dist-packages/numpy/core/_asarray.py:83: VisibleDeprecationWarning: Creating an ndarray from ragged nested sequences (which is a list-or-tuple of lists-or-tuples-or ndarrays with different lengths or shapes) is deprecated. If you meant to do this, you must specify 'dtype=object' when creating the ndarray\n",
            "  return array(a, dtype, copy=False, order=order)\n"
          ]
        },
        {
          "output_type": "display_data",
          "data": {
            "text/html": [
              "<table border=\"1\" class=\"dataframe\">\n",
              "  <thead>\n",
              "    <tr style=\"text-align: right;\">\n",
              "      <th></th>\n",
              "      <th>text</th>\n",
              "      <th>category</th>\n",
              "    </tr>\n",
              "  </thead>\n",
              "  <tbody>\n",
              "    <tr>\n",
              "      <th>0</th>\n",
              "      <td>xxbos xxfld 1 xxmaj it 's huge . xxfld 2 xxmaj no , but i 'm not a small person . i 'm 5'8 , a size 6 on top , 8 on bottom . i do n't love this on the model online , but i saw this on xxunk 's blog , love xxunk , and thought it looked amazing . i tried it on in my retailer , and while they only had a m / l , since i 'm tall , i figured that 'd be fine . oh . no . not fine . it 's huge . like , it could almost cover a twin bed . it was a couple inches longer on me than on the model , and does n't xxunk down in a drape nearly as well , so just looks , h xxrep 3 u ge . i</td>\n",
              "      <td>0</td>\n",
              "    </tr>\n",
              "    <tr>\n",
              "      <th>1</th>\n",
              "      <td>xxbos xxfld 1 xxmaj great skirt , but size up a lot if you 're curvy xxfld 2 i understand this is a pencil skirt , so it 's gon na be more body hugging . however , this really did seem to run small . i only tried it on because it was on sale and there was a promotion . my thoughts below : \\n▁ xxrep 11 _ \\n pros : \\n - great design that will match with a lot of things . \\n - very soft and comfortable overall due to being part modal . lots of stretch . \\n - no dry cleaning here . hand wash , which is a plus for me . \\n - it 's a thicker knit , but it 's breathable , too . no issues with being see - through . \\n - re</td>\n",
              "      <td>1</td>\n",
              "    </tr>\n",
              "    <tr>\n",
              "      <th>2</th>\n",
              "      <td>xxbos xxfld 1 xxmaj very pretty -- runs very long though ! xxfld 2 xxmaj this is long -- as it is shown in the picture . i am five 8 , and it 's actually too long for me . it looks a bit matronly on as it 's just so long . i loved the fabric -- it 's not heavy and it 's super soft . i think it runs one size big . it 's made very well , and as i stated , it is a nice fabric with a soft hand . it would be nice for a crisp fall day . that being said , the length just is n't right and does nothing for me . i 'm five 8 and slender . i definitely do not think a petite woman would like this or be</td>\n",
              "      <td>1</td>\n",
              "    </tr>\n",
              "    <tr>\n",
              "      <th>3</th>\n",
              "      <td>xxbos xxfld 1 xxmaj beautiful one - of - a - kind jacket xxfld 2 i love this coat ! i purchased the size 6 . i am a size 6 petite , but they were out . plus i wanted the coat to be a little longer . i was n't a fan of how high it was on the model . it fit as i expected . i will have to take up the arm length , and it hit a little longer than it did on the model . i am 5 ' 120 pounds . 34c \\n\\n the quality is what i expected . it 's excellent with lining . color is as shown . this coat will go with everything ! i plan to dress it up and down . i purchased the \" orange \" pants and the</td>\n",
              "      <td>1</td>\n",
              "    </tr>\n",
              "    <tr>\n",
              "      <th>4</th>\n",
              "      <td>xxbos xxfld 1 xxmaj small in bust , tts in torso xxfld 2 xxmaj this top is a tough one . i ordered my usual medium . i 'm 5'7 \" , 165 lbs , 34c , and wear a 10 / m pretty much all the time ( tops and bottoms ) . let 's begin : \\n\\n the bad : \\n when i tried it on , i found the bust to be too small , and the darting on the sides puckered in a very non - flattering way . the ruffle at the neck stood up more like a mock turtleneck ( which is not my scene ) . also , the fabric seemed a little thin for chambray . \\n\\n the good : \\n the pattern is adorable . the sleeveless design would be great under xxunk</td>\n",
              "      <td>1</td>\n",
              "    </tr>\n",
              "    <tr>\n",
              "      <th>5</th>\n",
              "      <td>xxbos xxfld 1 xxmaj cute leggings for cooler days , but be aware of fit xxfld 2 xxmaj i 've been wanting to add some cords to my wardrobe and had to give these a try . i ordered the blue color on - line in size 31 . i 'm somewhat in - between size 30 and 31 in jeans right now , so i thought i 'd be on the safe side and go up . i ended up keeping these and i 'm happy with my purchase , although i do feel like the cut of the leggings is a bit off for me . i am a proportional hour - glass shape and i found these leggings to be quite snug in the thigh , while being oversized in the waist . \\n in the end ,</td>\n",
              "      <td>1</td>\n",
              "    </tr>\n",
              "    <tr>\n",
              "      <th>6</th>\n",
              "      <td>xxbos xxfld 1 xxmaj not quite an every day staple , but nice top xxfld 2 i wanted a nice , well - fitting top that would work with trousers , jeans , and skirts alike , and be a nice wardrobe staple . i got two of these tops - one size s ( black ) and one m ( turquoise ) . the size m is gigantic and i have to return it . the size s is also a whole xxunk shirt . the top is really long and has a multi - level bottom , as well as the pocket , making it not just a simple top but a rather \" loud \" top . nevertheless , i 'm keeping the size s ( black ) as a versatile shirt that i can hopefully xxunk</td>\n",
              "      <td>1</td>\n",
              "    </tr>\n",
              "    <tr>\n",
              "      <th>7</th>\n",
              "      <td>xxbos xxfld 1 xxmaj beautiful , beautiful , beautiful xxrep 3 ! xxfld 2 xxmaj this sweater is a beautiful , quality , well - made , piece of art ! it looks on , exactly like it looks online . when i ordered it , i was worried that my usual size , xs , might be too tight . however , it is a perfect fit : it is fitted , yet , it still has a comfortable looseness ( with some extra room in the length of the arms ) . for reference , i am 122 lbs , 5'4 \" , 36 - 17 - 36 . the color is a perfect match to the pilcro serif navy / xxunk leggings . of course , i am always apprehensive about stretching and / or shrink</td>\n",
              "      <td>1</td>\n",
              "    </tr>\n",
              "    <tr>\n",
              "      <th>8</th>\n",
              "      <td>xxbos xxfld 1 xxmaj the perfect denim midi skirt xxfld 2 i followed everyone 's advice in the reviews and ordered up one size . i have a 32 inch waist , but size 10 's ( and 30 's in pilcro hyphens ) usually fit me . i ordered the 12 in this skirt , and it fits perfect . it 's form fitting at waist and hips and then flares out , but i 'm curvy . if you are straighter , it will be looser around the hips . i love the length . it hits me mid calf , so a bit lower than it does on the model . i 'm 5'5 \" tall . the fabric is soft , but has no stretch . it 's 100 % cotton . there is a</td>\n",
              "      <td>1</td>\n",
              "    </tr>\n",
              "  </tbody>\n",
              "</table>"
            ],
            "text/plain": [
              "<IPython.core.display.HTML object>"
            ]
          },
          "metadata": {}
        }
      ]
    },
    {
      "cell_type": "code",
      "metadata": {
        "colab": {
          "base_uri": "https://localhost:8080/"
        },
        "id": "UaelmbwdpXmm",
        "outputId": "44725cb8-972d-49aa-f8e7-c5c218fff688"
      },
      "source": [
        "# to get DataLoader:  use [0] for train, use [1] for test\n",
        "\n",
        "### TBD??? list(txt_dls[1].get_idxs())[:5] is NOT shuffled\n",
        "list(dls_txt[0].get_idxs())[:5], list(dls_txt[1].get_idxs())[:5]"
      ],
      "execution_count": 16,
      "outputs": [
        {
          "output_type": "execute_result",
          "data": {
            "text/plain": [
              "([18436, 1448, 16698, 11543, 14609], [2248, 1046, 631, 3033, 215])"
            ]
          },
          "metadata": {},
          "execution_count": 16
        }
      ]
    },
    {
      "cell_type": "markdown",
      "metadata": {
        "id": "FAZgDmNU5sSA"
      },
      "source": [
        "### Text Learner"
      ]
    },
    {
      "cell_type": "code",
      "metadata": {
        "id": "_-28QMayWueX",
        "colab": {
          "base_uri": "https://localhost:8080/",
          "height": 37
        },
        "outputId": "a05fd7ec-5049-49e4-cae6-91c03379cf40"
      },
      "source": [
        "# language model\n",
        "learn_lm = language_model_learner(dls_lm, AWD_LSTM, drop_mult = 0.3).to_fp16()\n",
        "#learn_lm.fit_one_cycle(3, 1e-2)"
      ],
      "execution_count": 13,
      "outputs": [
        {
          "output_type": "display_data",
          "data": {
            "text/html": [
              "\n",
              "    <div>\n",
              "        <style>\n",
              "            /* Turns off some styling */\n",
              "            progress {\n",
              "                /* gets rid of default border in Firefox and Opera. */\n",
              "                border: none;\n",
              "                /* Needs to be in here for Safari polyfill so background images work as expected. */\n",
              "                background-size: auto;\n",
              "            }\n",
              "            .progress-bar-interrupted, .progress-bar-interrupted::-webkit-progress-bar {\n",
              "                background: #F44336;\n",
              "            }\n",
              "        </style>\n",
              "      <progress value='105070592' class='' max='105067061' style='width:300px; height:20px; vertical-align: middle;'></progress>\n",
              "      100.00% [105070592/105067061 00:02<00:00]\n",
              "    </div>\n",
              "    "
            ],
            "text/plain": [
              "<IPython.core.display.HTML object>"
            ]
          },
          "metadata": {}
        }
      ]
    },
    {
      "cell_type": "code",
      "metadata": {
        "colab": {
          "base_uri": "https://localhost:8080/",
          "height": 770
        },
        "id": "1L2p7ItbnfgY",
        "outputId": "c0918b95-39b3-471b-f9b5-3c8a61098574"
      },
      "source": [
        "learn_txt = text_classifier_learner(dls_txt, AWD_LSTM, drop_mult=0.5, metrics=metrics).to_fp16()\n",
        "lr=list(learn_txt.lr_find())[0]\n",
        "learn_txt.fit_flat_cos(100, cbs=[EarlyStoppingCallback()], lr=lr)"
      ],
      "execution_count": 40,
      "outputs": [
        {
          "output_type": "display_data",
          "data": {
            "text/html": [
              "\n",
              "    <div>\n",
              "        <style>\n",
              "            /* Turns off some styling */\n",
              "            progress {\n",
              "                /* gets rid of default border in Firefox and Opera. */\n",
              "                border: none;\n",
              "                /* Needs to be in here for Safari polyfill so background images work as expected. */\n",
              "                background-size: auto;\n",
              "            }\n",
              "            .progress-bar-interrupted, .progress-bar-interrupted::-webkit-progress-bar {\n",
              "                background: #F44336;\n",
              "            }\n",
              "        </style>\n",
              "      <progress value='105070592' class='' max='105067061' style='width:300px; height:20px; vertical-align: middle;'></progress>\n",
              "      100.00% [105070592/105067061 00:01<00:00]\n",
              "    </div>\n",
              "    "
            ],
            "text/plain": [
              "<IPython.core.display.HTML object>"
            ]
          },
          "metadata": {}
        },
        {
          "output_type": "stream",
          "name": "stderr",
          "text": [
            "/usr/local/lib/python3.7/dist-packages/torch/cuda/amp/autocast_mode.py:120: UserWarning: torch.cuda.amp.autocast only affects CUDA ops, but CUDA is not available.  Disabling.\n",
            "  warnings.warn(\"torch.cuda.amp.autocast only affects CUDA ops, but CUDA is not available.  Disabling.\")\n",
            "/usr/local/lib/python3.7/dist-packages/torch/cuda/amp/grad_scaler.py:115: UserWarning: torch.cuda.amp.GradScaler is enabled, but CUDA is not available.  Disabling.\n",
            "  warnings.warn(\"torch.cuda.amp.GradScaler is enabled, but CUDA is not available.  Disabling.\")\n"
          ]
        },
        {
          "output_type": "display_data",
          "data": {
            "text/html": [
              "\n",
              "    <div>\n",
              "        <style>\n",
              "            /* Turns off some styling */\n",
              "            progress {\n",
              "                /* gets rid of default border in Firefox and Opera. */\n",
              "                border: none;\n",
              "                /* Needs to be in here for Safari polyfill so background images work as expected. */\n",
              "                background-size: auto;\n",
              "            }\n",
              "            .progress-bar-interrupted, .progress-bar-interrupted::-webkit-progress-bar {\n",
              "                background: #F44336;\n",
              "            }\n",
              "        </style>\n",
              "      <progress value='0' class='' max='1' style='width:300px; height:20px; vertical-align: middle;'></progress>\n",
              "      0.00% [0/1 00:00<00:00]\n",
              "    </div>\n",
              "    \n",
              "\n",
              "\n",
              "    <div>\n",
              "        <style>\n",
              "            /* Turns off some styling */\n",
              "            progress {\n",
              "                /* gets rid of default border in Firefox and Opera. */\n",
              "                border: none;\n",
              "                /* Needs to be in here for Safari polyfill so background images work as expected. */\n",
              "                background-size: auto;\n",
              "            }\n",
              "            .progress-bar-interrupted, .progress-bar-interrupted::-webkit-progress-bar {\n",
              "                background: #F44336;\n",
              "            }\n",
              "        </style>\n",
              "      <progress value='23' class='' max='293' style='width:300px; height:20px; vertical-align: middle;'></progress>\n",
              "      7.85% [23/293 01:08<13:20 0.7824]\n",
              "    </div>\n",
              "    "
            ],
            "text/plain": [
              "<IPython.core.display.HTML object>"
            ]
          },
          "metadata": {}
        },
        {
          "output_type": "stream",
          "name": "stderr",
          "text": [
            "Process Process-20:\n",
            "Traceback (most recent call last):\n",
            "  File \"/usr/lib/python3.7/multiprocessing/process.py\", line 297, in _bootstrap\n",
            "    self.run()\n",
            "  File \"/usr/lib/python3.7/multiprocessing/process.py\", line 99, in run\n",
            "    self._target(*self._args, **self._kwargs)\n",
            "KeyboardInterrupt\n"
          ]
        },
        {
          "output_type": "error",
          "ename": "RuntimeError",
          "evalue": "ignored",
          "traceback": [
            "\u001b[0;31m---------------------------------------------------------------------------\u001b[0m",
            "\u001b[0;31mKeyboardInterrupt\u001b[0m                         Traceback (most recent call last)",
            "\u001b[0;32m/usr/local/lib/python3.7/dist-packages/torch/_tensor.py\u001b[0m in \u001b[0;36m__torch_function__\u001b[0;34m(cls, func, types, args, kwargs)\u001b[0m\n\u001b[1;32m   1022\u001b[0m         \u001b[0;32mwith\u001b[0m \u001b[0m_C\u001b[0m\u001b[0;34m.\u001b[0m\u001b[0mDisableTorchFunction\u001b[0m\u001b[0;34m(\u001b[0m\u001b[0;34m)\u001b[0m\u001b[0;34m:\u001b[0m\u001b[0;34m\u001b[0m\u001b[0;34m\u001b[0m\u001b[0m\n\u001b[0;32m-> 1023\u001b[0;31m             \u001b[0mret\u001b[0m \u001b[0;34m=\u001b[0m \u001b[0mfunc\u001b[0m\u001b[0;34m(\u001b[0m\u001b[0;34m*\u001b[0m\u001b[0margs\u001b[0m\u001b[0;34m,\u001b[0m \u001b[0;34m**\u001b[0m\u001b[0mkwargs\u001b[0m\u001b[0;34m)\u001b[0m\u001b[0;34m\u001b[0m\u001b[0;34m\u001b[0m\u001b[0m\n\u001b[0m\u001b[1;32m   1024\u001b[0m             \u001b[0;32mreturn\u001b[0m \u001b[0m_convert\u001b[0m\u001b[0;34m(\u001b[0m\u001b[0mret\u001b[0m\u001b[0;34m,\u001b[0m \u001b[0mcls\u001b[0m\u001b[0;34m)\u001b[0m\u001b[0;34m\u001b[0m\u001b[0;34m\u001b[0m\u001b[0m\n",
            "\u001b[0;31mKeyboardInterrupt\u001b[0m: ",
            "\nDuring handling of the above exception, another exception occurred:\n",
            "\u001b[0;31mRuntimeError\u001b[0m                              Traceback (most recent call last)",
            "\u001b[0;32m<ipython-input-40-213126c86d3a>\u001b[0m in \u001b[0;36m<module>\u001b[0;34m()\u001b[0m\n\u001b[1;32m      1\u001b[0m \u001b[0mlearn_txt\u001b[0m \u001b[0;34m=\u001b[0m \u001b[0mtext_classifier_learner\u001b[0m\u001b[0;34m(\u001b[0m\u001b[0mdls_txt\u001b[0m\u001b[0;34m,\u001b[0m \u001b[0mAWD_LSTM\u001b[0m\u001b[0;34m,\u001b[0m \u001b[0mdrop_mult\u001b[0m\u001b[0;34m=\u001b[0m\u001b[0;36m0.5\u001b[0m\u001b[0;34m,\u001b[0m \u001b[0mmetrics\u001b[0m\u001b[0;34m=\u001b[0m\u001b[0mmetrics\u001b[0m\u001b[0;34m)\u001b[0m\u001b[0;34m.\u001b[0m\u001b[0mto_fp16\u001b[0m\u001b[0;34m(\u001b[0m\u001b[0;34m)\u001b[0m\u001b[0;34m\u001b[0m\u001b[0;34m\u001b[0m\u001b[0m\n\u001b[0;32m----> 2\u001b[0;31m \u001b[0mlr\u001b[0m\u001b[0;34m=\u001b[0m\u001b[0mlist\u001b[0m\u001b[0;34m(\u001b[0m\u001b[0mlearn_txt\u001b[0m\u001b[0;34m.\u001b[0m\u001b[0mlr_find\u001b[0m\u001b[0;34m(\u001b[0m\u001b[0;34m)\u001b[0m\u001b[0;34m)\u001b[0m\u001b[0;34m[\u001b[0m\u001b[0;36m0\u001b[0m\u001b[0;34m]\u001b[0m\u001b[0;34m\u001b[0m\u001b[0;34m\u001b[0m\u001b[0m\n\u001b[0m\u001b[1;32m      3\u001b[0m \u001b[0mlearn_txt\u001b[0m\u001b[0;34m.\u001b[0m\u001b[0mfit_flat_cos\u001b[0m\u001b[0;34m(\u001b[0m\u001b[0;36m100\u001b[0m\u001b[0;34m,\u001b[0m \u001b[0mcbs\u001b[0m\u001b[0;34m=\u001b[0m\u001b[0;34m[\u001b[0m\u001b[0mEarlyStoppingCallback\u001b[0m\u001b[0;34m(\u001b[0m\u001b[0;34m)\u001b[0m\u001b[0;34m]\u001b[0m\u001b[0;34m,\u001b[0m \u001b[0mlr\u001b[0m\u001b[0;34m=\u001b[0m\u001b[0mlr\u001b[0m\u001b[0;34m)\u001b[0m\u001b[0;34m\u001b[0m\u001b[0;34m\u001b[0m\u001b[0m\n",
            "\u001b[0;32m/usr/local/lib/python3.7/dist-packages/fastai/callback/schedule.py\u001b[0m in \u001b[0;36mlr_find\u001b[0;34m(self, start_lr, end_lr, num_it, stop_div, show_plot, suggest_funcs)\u001b[0m\n\u001b[1;32m    280\u001b[0m     \u001b[0mn_epoch\u001b[0m \u001b[0;34m=\u001b[0m \u001b[0mnum_it\u001b[0m\u001b[0;34m//\u001b[0m\u001b[0mlen\u001b[0m\u001b[0;34m(\u001b[0m\u001b[0mself\u001b[0m\u001b[0;34m.\u001b[0m\u001b[0mdls\u001b[0m\u001b[0;34m.\u001b[0m\u001b[0mtrain\u001b[0m\u001b[0;34m)\u001b[0m \u001b[0;34m+\u001b[0m \u001b[0;36m1\u001b[0m\u001b[0;34m\u001b[0m\u001b[0;34m\u001b[0m\u001b[0m\n\u001b[1;32m    281\u001b[0m     \u001b[0mcb\u001b[0m\u001b[0;34m=\u001b[0m\u001b[0mLRFinder\u001b[0m\u001b[0;34m(\u001b[0m\u001b[0mstart_lr\u001b[0m\u001b[0;34m=\u001b[0m\u001b[0mstart_lr\u001b[0m\u001b[0;34m,\u001b[0m \u001b[0mend_lr\u001b[0m\u001b[0;34m=\u001b[0m\u001b[0mend_lr\u001b[0m\u001b[0;34m,\u001b[0m \u001b[0mnum_it\u001b[0m\u001b[0;34m=\u001b[0m\u001b[0mnum_it\u001b[0m\u001b[0;34m,\u001b[0m \u001b[0mstop_div\u001b[0m\u001b[0;34m=\u001b[0m\u001b[0mstop_div\u001b[0m\u001b[0;34m)\u001b[0m\u001b[0;34m\u001b[0m\u001b[0;34m\u001b[0m\u001b[0m\n\u001b[0;32m--> 282\u001b[0;31m     \u001b[0;32mwith\u001b[0m \u001b[0mself\u001b[0m\u001b[0;34m.\u001b[0m\u001b[0mno_logging\u001b[0m\u001b[0;34m(\u001b[0m\u001b[0;34m)\u001b[0m\u001b[0;34m:\u001b[0m \u001b[0mself\u001b[0m\u001b[0;34m.\u001b[0m\u001b[0mfit\u001b[0m\u001b[0;34m(\u001b[0m\u001b[0mn_epoch\u001b[0m\u001b[0;34m,\u001b[0m \u001b[0mcbs\u001b[0m\u001b[0;34m=\u001b[0m\u001b[0mcb\u001b[0m\u001b[0;34m)\u001b[0m\u001b[0;34m\u001b[0m\u001b[0;34m\u001b[0m\u001b[0m\n\u001b[0m\u001b[1;32m    283\u001b[0m     \u001b[0;32mif\u001b[0m \u001b[0msuggest_funcs\u001b[0m \u001b[0;32mis\u001b[0m \u001b[0;32mnot\u001b[0m \u001b[0;32mNone\u001b[0m\u001b[0;34m:\u001b[0m\u001b[0;34m\u001b[0m\u001b[0;34m\u001b[0m\u001b[0m\n\u001b[1;32m    284\u001b[0m         \u001b[0mlrs\u001b[0m\u001b[0;34m,\u001b[0m \u001b[0mlosses\u001b[0m \u001b[0;34m=\u001b[0m \u001b[0mtensor\u001b[0m\u001b[0;34m(\u001b[0m\u001b[0mself\u001b[0m\u001b[0;34m.\u001b[0m\u001b[0mrecorder\u001b[0m\u001b[0;34m.\u001b[0m\u001b[0mlrs\u001b[0m\u001b[0;34m[\u001b[0m\u001b[0mnum_it\u001b[0m\u001b[0;34m//\u001b[0m\u001b[0;36m10\u001b[0m\u001b[0;34m:\u001b[0m\u001b[0;34m-\u001b[0m\u001b[0;36m5\u001b[0m\u001b[0;34m]\u001b[0m\u001b[0;34m)\u001b[0m\u001b[0;34m,\u001b[0m \u001b[0mtensor\u001b[0m\u001b[0;34m(\u001b[0m\u001b[0mself\u001b[0m\u001b[0;34m.\u001b[0m\u001b[0mrecorder\u001b[0m\u001b[0;34m.\u001b[0m\u001b[0mlosses\u001b[0m\u001b[0;34m[\u001b[0m\u001b[0mnum_it\u001b[0m\u001b[0;34m//\u001b[0m\u001b[0;36m10\u001b[0m\u001b[0;34m:\u001b[0m\u001b[0;34m-\u001b[0m\u001b[0;36m5\u001b[0m\u001b[0;34m]\u001b[0m\u001b[0;34m)\u001b[0m\u001b[0;34m\u001b[0m\u001b[0;34m\u001b[0m\u001b[0m\n",
            "\u001b[0;32m/usr/local/lib/python3.7/dist-packages/fastai/learner.py\u001b[0m in \u001b[0;36mfit\u001b[0;34m(self, n_epoch, lr, wd, cbs, reset_opt)\u001b[0m\n\u001b[1;32m    219\u001b[0m             \u001b[0mself\u001b[0m\u001b[0;34m.\u001b[0m\u001b[0mopt\u001b[0m\u001b[0;34m.\u001b[0m\u001b[0mset_hypers\u001b[0m\u001b[0;34m(\u001b[0m\u001b[0mlr\u001b[0m\u001b[0;34m=\u001b[0m\u001b[0mself\u001b[0m\u001b[0;34m.\u001b[0m\u001b[0mlr\u001b[0m \u001b[0;32mif\u001b[0m \u001b[0mlr\u001b[0m \u001b[0;32mis\u001b[0m \u001b[0;32mNone\u001b[0m \u001b[0;32melse\u001b[0m \u001b[0mlr\u001b[0m\u001b[0;34m)\u001b[0m\u001b[0;34m\u001b[0m\u001b[0;34m\u001b[0m\u001b[0m\n\u001b[1;32m    220\u001b[0m             \u001b[0mself\u001b[0m\u001b[0;34m.\u001b[0m\u001b[0mn_epoch\u001b[0m \u001b[0;34m=\u001b[0m \u001b[0mn_epoch\u001b[0m\u001b[0;34m\u001b[0m\u001b[0;34m\u001b[0m\u001b[0m\n\u001b[0;32m--> 221\u001b[0;31m             \u001b[0mself\u001b[0m\u001b[0;34m.\u001b[0m\u001b[0m_with_events\u001b[0m\u001b[0;34m(\u001b[0m\u001b[0mself\u001b[0m\u001b[0;34m.\u001b[0m\u001b[0m_do_fit\u001b[0m\u001b[0;34m,\u001b[0m \u001b[0;34m'fit'\u001b[0m\u001b[0;34m,\u001b[0m \u001b[0mCancelFitException\u001b[0m\u001b[0;34m,\u001b[0m \u001b[0mself\u001b[0m\u001b[0;34m.\u001b[0m\u001b[0m_end_cleanup\u001b[0m\u001b[0;34m)\u001b[0m\u001b[0;34m\u001b[0m\u001b[0;34m\u001b[0m\u001b[0m\n\u001b[0m\u001b[1;32m    222\u001b[0m \u001b[0;34m\u001b[0m\u001b[0m\n\u001b[1;32m    223\u001b[0m     \u001b[0;32mdef\u001b[0m \u001b[0m_end_cleanup\u001b[0m\u001b[0;34m(\u001b[0m\u001b[0mself\u001b[0m\u001b[0;34m)\u001b[0m\u001b[0;34m:\u001b[0m \u001b[0mself\u001b[0m\u001b[0;34m.\u001b[0m\u001b[0mdl\u001b[0m\u001b[0;34m,\u001b[0m\u001b[0mself\u001b[0m\u001b[0;34m.\u001b[0m\u001b[0mxb\u001b[0m\u001b[0;34m,\u001b[0m\u001b[0mself\u001b[0m\u001b[0;34m.\u001b[0m\u001b[0myb\u001b[0m\u001b[0;34m,\u001b[0m\u001b[0mself\u001b[0m\u001b[0;34m.\u001b[0m\u001b[0mpred\u001b[0m\u001b[0;34m,\u001b[0m\u001b[0mself\u001b[0m\u001b[0;34m.\u001b[0m\u001b[0mloss\u001b[0m \u001b[0;34m=\u001b[0m \u001b[0;32mNone\u001b[0m\u001b[0;34m,\u001b[0m\u001b[0;34m(\u001b[0m\u001b[0;32mNone\u001b[0m\u001b[0;34m,\u001b[0m\u001b[0;34m)\u001b[0m\u001b[0;34m,\u001b[0m\u001b[0;34m(\u001b[0m\u001b[0;32mNone\u001b[0m\u001b[0;34m,\u001b[0m\u001b[0;34m)\u001b[0m\u001b[0;34m,\u001b[0m\u001b[0;32mNone\u001b[0m\u001b[0;34m,\u001b[0m\u001b[0;32mNone\u001b[0m\u001b[0;34m\u001b[0m\u001b[0;34m\u001b[0m\u001b[0m\n",
            "\u001b[0;32m/usr/local/lib/python3.7/dist-packages/fastai/learner.py\u001b[0m in \u001b[0;36m_with_events\u001b[0;34m(self, f, event_type, ex, final)\u001b[0m\n\u001b[1;32m    161\u001b[0m \u001b[0;34m\u001b[0m\u001b[0m\n\u001b[1;32m    162\u001b[0m     \u001b[0;32mdef\u001b[0m \u001b[0m_with_events\u001b[0m\u001b[0;34m(\u001b[0m\u001b[0mself\u001b[0m\u001b[0;34m,\u001b[0m \u001b[0mf\u001b[0m\u001b[0;34m,\u001b[0m \u001b[0mevent_type\u001b[0m\u001b[0;34m,\u001b[0m \u001b[0mex\u001b[0m\u001b[0;34m,\u001b[0m \u001b[0mfinal\u001b[0m\u001b[0;34m=\u001b[0m\u001b[0mnoop\u001b[0m\u001b[0;34m)\u001b[0m\u001b[0;34m:\u001b[0m\u001b[0;34m\u001b[0m\u001b[0;34m\u001b[0m\u001b[0m\n\u001b[0;32m--> 163\u001b[0;31m         \u001b[0;32mtry\u001b[0m\u001b[0;34m:\u001b[0m \u001b[0mself\u001b[0m\u001b[0;34m(\u001b[0m\u001b[0;34mf'before_{event_type}'\u001b[0m\u001b[0;34m)\u001b[0m\u001b[0;34m;\u001b[0m  \u001b[0mf\u001b[0m\u001b[0;34m(\u001b[0m\u001b[0;34m)\u001b[0m\u001b[0;34m\u001b[0m\u001b[0;34m\u001b[0m\u001b[0m\n\u001b[0m\u001b[1;32m    164\u001b[0m         \u001b[0;32mexcept\u001b[0m \u001b[0mex\u001b[0m\u001b[0;34m:\u001b[0m \u001b[0mself\u001b[0m\u001b[0;34m(\u001b[0m\u001b[0;34mf'after_cancel_{event_type}'\u001b[0m\u001b[0;34m)\u001b[0m\u001b[0;34m\u001b[0m\u001b[0;34m\u001b[0m\u001b[0m\n\u001b[1;32m    165\u001b[0m         \u001b[0mself\u001b[0m\u001b[0;34m(\u001b[0m\u001b[0;34mf'after_{event_type}'\u001b[0m\u001b[0;34m)\u001b[0m\u001b[0;34m;\u001b[0m  \u001b[0mfinal\u001b[0m\u001b[0;34m(\u001b[0m\u001b[0;34m)\u001b[0m\u001b[0;34m\u001b[0m\u001b[0;34m\u001b[0m\u001b[0m\n",
            "\u001b[0;32m/usr/local/lib/python3.7/dist-packages/fastai/learner.py\u001b[0m in \u001b[0;36m_do_fit\u001b[0;34m(self)\u001b[0m\n\u001b[1;32m    210\u001b[0m         \u001b[0;32mfor\u001b[0m \u001b[0mepoch\u001b[0m \u001b[0;32min\u001b[0m \u001b[0mrange\u001b[0m\u001b[0;34m(\u001b[0m\u001b[0mself\u001b[0m\u001b[0;34m.\u001b[0m\u001b[0mn_epoch\u001b[0m\u001b[0;34m)\u001b[0m\u001b[0;34m:\u001b[0m\u001b[0;34m\u001b[0m\u001b[0;34m\u001b[0m\u001b[0m\n\u001b[1;32m    211\u001b[0m             \u001b[0mself\u001b[0m\u001b[0;34m.\u001b[0m\u001b[0mepoch\u001b[0m\u001b[0;34m=\u001b[0m\u001b[0mepoch\u001b[0m\u001b[0;34m\u001b[0m\u001b[0;34m\u001b[0m\u001b[0m\n\u001b[0;32m--> 212\u001b[0;31m             \u001b[0mself\u001b[0m\u001b[0;34m.\u001b[0m\u001b[0m_with_events\u001b[0m\u001b[0;34m(\u001b[0m\u001b[0mself\u001b[0m\u001b[0;34m.\u001b[0m\u001b[0m_do_epoch\u001b[0m\u001b[0;34m,\u001b[0m \u001b[0;34m'epoch'\u001b[0m\u001b[0;34m,\u001b[0m \u001b[0mCancelEpochException\u001b[0m\u001b[0;34m)\u001b[0m\u001b[0;34m\u001b[0m\u001b[0;34m\u001b[0m\u001b[0m\n\u001b[0m\u001b[1;32m    213\u001b[0m \u001b[0;34m\u001b[0m\u001b[0m\n\u001b[1;32m    214\u001b[0m     \u001b[0;32mdef\u001b[0m \u001b[0mfit\u001b[0m\u001b[0;34m(\u001b[0m\u001b[0mself\u001b[0m\u001b[0;34m,\u001b[0m \u001b[0mn_epoch\u001b[0m\u001b[0;34m,\u001b[0m \u001b[0mlr\u001b[0m\u001b[0;34m=\u001b[0m\u001b[0;32mNone\u001b[0m\u001b[0;34m,\u001b[0m \u001b[0mwd\u001b[0m\u001b[0;34m=\u001b[0m\u001b[0;32mNone\u001b[0m\u001b[0;34m,\u001b[0m \u001b[0mcbs\u001b[0m\u001b[0;34m=\u001b[0m\u001b[0;32mNone\u001b[0m\u001b[0;34m,\u001b[0m \u001b[0mreset_opt\u001b[0m\u001b[0;34m=\u001b[0m\u001b[0;32mFalse\u001b[0m\u001b[0;34m)\u001b[0m\u001b[0;34m:\u001b[0m\u001b[0;34m\u001b[0m\u001b[0;34m\u001b[0m\u001b[0m\n",
            "\u001b[0;32m/usr/local/lib/python3.7/dist-packages/fastai/learner.py\u001b[0m in \u001b[0;36m_with_events\u001b[0;34m(self, f, event_type, ex, final)\u001b[0m\n\u001b[1;32m    161\u001b[0m \u001b[0;34m\u001b[0m\u001b[0m\n\u001b[1;32m    162\u001b[0m     \u001b[0;32mdef\u001b[0m \u001b[0m_with_events\u001b[0m\u001b[0;34m(\u001b[0m\u001b[0mself\u001b[0m\u001b[0;34m,\u001b[0m \u001b[0mf\u001b[0m\u001b[0;34m,\u001b[0m \u001b[0mevent_type\u001b[0m\u001b[0;34m,\u001b[0m \u001b[0mex\u001b[0m\u001b[0;34m,\u001b[0m \u001b[0mfinal\u001b[0m\u001b[0;34m=\u001b[0m\u001b[0mnoop\u001b[0m\u001b[0;34m)\u001b[0m\u001b[0;34m:\u001b[0m\u001b[0;34m\u001b[0m\u001b[0;34m\u001b[0m\u001b[0m\n\u001b[0;32m--> 163\u001b[0;31m         \u001b[0;32mtry\u001b[0m\u001b[0;34m:\u001b[0m \u001b[0mself\u001b[0m\u001b[0;34m(\u001b[0m\u001b[0;34mf'before_{event_type}'\u001b[0m\u001b[0;34m)\u001b[0m\u001b[0;34m;\u001b[0m  \u001b[0mf\u001b[0m\u001b[0;34m(\u001b[0m\u001b[0;34m)\u001b[0m\u001b[0;34m\u001b[0m\u001b[0;34m\u001b[0m\u001b[0m\n\u001b[0m\u001b[1;32m    164\u001b[0m         \u001b[0;32mexcept\u001b[0m \u001b[0mex\u001b[0m\u001b[0;34m:\u001b[0m \u001b[0mself\u001b[0m\u001b[0;34m(\u001b[0m\u001b[0;34mf'after_cancel_{event_type}'\u001b[0m\u001b[0;34m)\u001b[0m\u001b[0;34m\u001b[0m\u001b[0;34m\u001b[0m\u001b[0m\n\u001b[1;32m    165\u001b[0m         \u001b[0mself\u001b[0m\u001b[0;34m(\u001b[0m\u001b[0;34mf'after_{event_type}'\u001b[0m\u001b[0;34m)\u001b[0m\u001b[0;34m;\u001b[0m  \u001b[0mfinal\u001b[0m\u001b[0;34m(\u001b[0m\u001b[0;34m)\u001b[0m\u001b[0;34m\u001b[0m\u001b[0;34m\u001b[0m\u001b[0m\n",
            "\u001b[0;32m/usr/local/lib/python3.7/dist-packages/fastai/learner.py\u001b[0m in \u001b[0;36m_do_epoch\u001b[0;34m(self)\u001b[0m\n\u001b[1;32m    204\u001b[0m \u001b[0;34m\u001b[0m\u001b[0m\n\u001b[1;32m    205\u001b[0m     \u001b[0;32mdef\u001b[0m \u001b[0m_do_epoch\u001b[0m\u001b[0;34m(\u001b[0m\u001b[0mself\u001b[0m\u001b[0;34m)\u001b[0m\u001b[0;34m:\u001b[0m\u001b[0;34m\u001b[0m\u001b[0;34m\u001b[0m\u001b[0m\n\u001b[0;32m--> 206\u001b[0;31m         \u001b[0mself\u001b[0m\u001b[0;34m.\u001b[0m\u001b[0m_do_epoch_train\u001b[0m\u001b[0;34m(\u001b[0m\u001b[0;34m)\u001b[0m\u001b[0;34m\u001b[0m\u001b[0;34m\u001b[0m\u001b[0m\n\u001b[0m\u001b[1;32m    207\u001b[0m         \u001b[0mself\u001b[0m\u001b[0;34m.\u001b[0m\u001b[0m_do_epoch_validate\u001b[0m\u001b[0;34m(\u001b[0m\u001b[0;34m)\u001b[0m\u001b[0;34m\u001b[0m\u001b[0;34m\u001b[0m\u001b[0m\n\u001b[1;32m    208\u001b[0m \u001b[0;34m\u001b[0m\u001b[0m\n",
            "\u001b[0;32m/usr/local/lib/python3.7/dist-packages/fastai/learner.py\u001b[0m in \u001b[0;36m_do_epoch_train\u001b[0;34m(self)\u001b[0m\n\u001b[1;32m    196\u001b[0m     \u001b[0;32mdef\u001b[0m \u001b[0m_do_epoch_train\u001b[0m\u001b[0;34m(\u001b[0m\u001b[0mself\u001b[0m\u001b[0;34m)\u001b[0m\u001b[0;34m:\u001b[0m\u001b[0;34m\u001b[0m\u001b[0;34m\u001b[0m\u001b[0m\n\u001b[1;32m    197\u001b[0m         \u001b[0mself\u001b[0m\u001b[0;34m.\u001b[0m\u001b[0mdl\u001b[0m \u001b[0;34m=\u001b[0m \u001b[0mself\u001b[0m\u001b[0;34m.\u001b[0m\u001b[0mdls\u001b[0m\u001b[0;34m.\u001b[0m\u001b[0mtrain\u001b[0m\u001b[0;34m\u001b[0m\u001b[0;34m\u001b[0m\u001b[0m\n\u001b[0;32m--> 198\u001b[0;31m         \u001b[0mself\u001b[0m\u001b[0;34m.\u001b[0m\u001b[0m_with_events\u001b[0m\u001b[0;34m(\u001b[0m\u001b[0mself\u001b[0m\u001b[0;34m.\u001b[0m\u001b[0mall_batches\u001b[0m\u001b[0;34m,\u001b[0m \u001b[0;34m'train'\u001b[0m\u001b[0;34m,\u001b[0m \u001b[0mCancelTrainException\u001b[0m\u001b[0;34m)\u001b[0m\u001b[0;34m\u001b[0m\u001b[0;34m\u001b[0m\u001b[0m\n\u001b[0m\u001b[1;32m    199\u001b[0m \u001b[0;34m\u001b[0m\u001b[0m\n\u001b[1;32m    200\u001b[0m     \u001b[0;32mdef\u001b[0m \u001b[0m_do_epoch_validate\u001b[0m\u001b[0;34m(\u001b[0m\u001b[0mself\u001b[0m\u001b[0;34m,\u001b[0m \u001b[0mds_idx\u001b[0m\u001b[0;34m=\u001b[0m\u001b[0;36m1\u001b[0m\u001b[0;34m,\u001b[0m \u001b[0mdl\u001b[0m\u001b[0;34m=\u001b[0m\u001b[0;32mNone\u001b[0m\u001b[0;34m)\u001b[0m\u001b[0;34m:\u001b[0m\u001b[0;34m\u001b[0m\u001b[0;34m\u001b[0m\u001b[0m\n",
            "\u001b[0;32m/usr/local/lib/python3.7/dist-packages/fastai/learner.py\u001b[0m in \u001b[0;36m_with_events\u001b[0;34m(self, f, event_type, ex, final)\u001b[0m\n\u001b[1;32m    161\u001b[0m \u001b[0;34m\u001b[0m\u001b[0m\n\u001b[1;32m    162\u001b[0m     \u001b[0;32mdef\u001b[0m \u001b[0m_with_events\u001b[0m\u001b[0;34m(\u001b[0m\u001b[0mself\u001b[0m\u001b[0;34m,\u001b[0m \u001b[0mf\u001b[0m\u001b[0;34m,\u001b[0m \u001b[0mevent_type\u001b[0m\u001b[0;34m,\u001b[0m \u001b[0mex\u001b[0m\u001b[0;34m,\u001b[0m \u001b[0mfinal\u001b[0m\u001b[0;34m=\u001b[0m\u001b[0mnoop\u001b[0m\u001b[0;34m)\u001b[0m\u001b[0;34m:\u001b[0m\u001b[0;34m\u001b[0m\u001b[0;34m\u001b[0m\u001b[0m\n\u001b[0;32m--> 163\u001b[0;31m         \u001b[0;32mtry\u001b[0m\u001b[0;34m:\u001b[0m \u001b[0mself\u001b[0m\u001b[0;34m(\u001b[0m\u001b[0;34mf'before_{event_type}'\u001b[0m\u001b[0;34m)\u001b[0m\u001b[0;34m;\u001b[0m  \u001b[0mf\u001b[0m\u001b[0;34m(\u001b[0m\u001b[0;34m)\u001b[0m\u001b[0;34m\u001b[0m\u001b[0;34m\u001b[0m\u001b[0m\n\u001b[0m\u001b[1;32m    164\u001b[0m         \u001b[0;32mexcept\u001b[0m \u001b[0mex\u001b[0m\u001b[0;34m:\u001b[0m \u001b[0mself\u001b[0m\u001b[0;34m(\u001b[0m\u001b[0;34mf'after_cancel_{event_type}'\u001b[0m\u001b[0;34m)\u001b[0m\u001b[0;34m\u001b[0m\u001b[0;34m\u001b[0m\u001b[0m\n\u001b[1;32m    165\u001b[0m         \u001b[0mself\u001b[0m\u001b[0;34m(\u001b[0m\u001b[0;34mf'after_{event_type}'\u001b[0m\u001b[0;34m)\u001b[0m\u001b[0;34m;\u001b[0m  \u001b[0mfinal\u001b[0m\u001b[0;34m(\u001b[0m\u001b[0;34m)\u001b[0m\u001b[0;34m\u001b[0m\u001b[0;34m\u001b[0m\u001b[0m\n",
            "\u001b[0;32m/usr/local/lib/python3.7/dist-packages/fastai/learner.py\u001b[0m in \u001b[0;36mall_batches\u001b[0;34m(self)\u001b[0m\n\u001b[1;32m    167\u001b[0m     \u001b[0;32mdef\u001b[0m \u001b[0mall_batches\u001b[0m\u001b[0;34m(\u001b[0m\u001b[0mself\u001b[0m\u001b[0;34m)\u001b[0m\u001b[0;34m:\u001b[0m\u001b[0;34m\u001b[0m\u001b[0;34m\u001b[0m\u001b[0m\n\u001b[1;32m    168\u001b[0m         \u001b[0mself\u001b[0m\u001b[0;34m.\u001b[0m\u001b[0mn_iter\u001b[0m \u001b[0;34m=\u001b[0m \u001b[0mlen\u001b[0m\u001b[0;34m(\u001b[0m\u001b[0mself\u001b[0m\u001b[0;34m.\u001b[0m\u001b[0mdl\u001b[0m\u001b[0;34m)\u001b[0m\u001b[0;34m\u001b[0m\u001b[0;34m\u001b[0m\u001b[0m\n\u001b[0;32m--> 169\u001b[0;31m         \u001b[0;32mfor\u001b[0m \u001b[0mo\u001b[0m \u001b[0;32min\u001b[0m \u001b[0menumerate\u001b[0m\u001b[0;34m(\u001b[0m\u001b[0mself\u001b[0m\u001b[0;34m.\u001b[0m\u001b[0mdl\u001b[0m\u001b[0;34m)\u001b[0m\u001b[0;34m:\u001b[0m \u001b[0mself\u001b[0m\u001b[0;34m.\u001b[0m\u001b[0mone_batch\u001b[0m\u001b[0;34m(\u001b[0m\u001b[0;34m*\u001b[0m\u001b[0mo\u001b[0m\u001b[0;34m)\u001b[0m\u001b[0;34m\u001b[0m\u001b[0;34m\u001b[0m\u001b[0m\n\u001b[0m\u001b[1;32m    170\u001b[0m \u001b[0;34m\u001b[0m\u001b[0m\n\u001b[1;32m    171\u001b[0m     \u001b[0;32mdef\u001b[0m \u001b[0m_do_one_batch\u001b[0m\u001b[0;34m(\u001b[0m\u001b[0mself\u001b[0m\u001b[0;34m)\u001b[0m\u001b[0;34m:\u001b[0m\u001b[0;34m\u001b[0m\u001b[0;34m\u001b[0m\u001b[0m\n",
            "\u001b[0;32m/usr/local/lib/python3.7/dist-packages/fastai/learner.py\u001b[0m in \u001b[0;36mone_batch\u001b[0;34m(self, i, b)\u001b[0m\n\u001b[1;32m    192\u001b[0m         \u001b[0mb\u001b[0m \u001b[0;34m=\u001b[0m \u001b[0mself\u001b[0m\u001b[0;34m.\u001b[0m\u001b[0m_set_device\u001b[0m\u001b[0;34m(\u001b[0m\u001b[0mb\u001b[0m\u001b[0;34m)\u001b[0m\u001b[0;34m\u001b[0m\u001b[0;34m\u001b[0m\u001b[0m\n\u001b[1;32m    193\u001b[0m         \u001b[0mself\u001b[0m\u001b[0;34m.\u001b[0m\u001b[0m_split\u001b[0m\u001b[0;34m(\u001b[0m\u001b[0mb\u001b[0m\u001b[0;34m)\u001b[0m\u001b[0;34m\u001b[0m\u001b[0;34m\u001b[0m\u001b[0m\n\u001b[0;32m--> 194\u001b[0;31m         \u001b[0mself\u001b[0m\u001b[0;34m.\u001b[0m\u001b[0m_with_events\u001b[0m\u001b[0;34m(\u001b[0m\u001b[0mself\u001b[0m\u001b[0;34m.\u001b[0m\u001b[0m_do_one_batch\u001b[0m\u001b[0;34m,\u001b[0m \u001b[0;34m'batch'\u001b[0m\u001b[0;34m,\u001b[0m \u001b[0mCancelBatchException\u001b[0m\u001b[0;34m)\u001b[0m\u001b[0;34m\u001b[0m\u001b[0;34m\u001b[0m\u001b[0m\n\u001b[0m\u001b[1;32m    195\u001b[0m \u001b[0;34m\u001b[0m\u001b[0m\n\u001b[1;32m    196\u001b[0m     \u001b[0;32mdef\u001b[0m \u001b[0m_do_epoch_train\u001b[0m\u001b[0;34m(\u001b[0m\u001b[0mself\u001b[0m\u001b[0;34m)\u001b[0m\u001b[0;34m:\u001b[0m\u001b[0;34m\u001b[0m\u001b[0;34m\u001b[0m\u001b[0m\n",
            "\u001b[0;32m/usr/local/lib/python3.7/dist-packages/fastai/learner.py\u001b[0m in \u001b[0;36m_with_events\u001b[0;34m(self, f, event_type, ex, final)\u001b[0m\n\u001b[1;32m    161\u001b[0m \u001b[0;34m\u001b[0m\u001b[0m\n\u001b[1;32m    162\u001b[0m     \u001b[0;32mdef\u001b[0m \u001b[0m_with_events\u001b[0m\u001b[0;34m(\u001b[0m\u001b[0mself\u001b[0m\u001b[0;34m,\u001b[0m \u001b[0mf\u001b[0m\u001b[0;34m,\u001b[0m \u001b[0mevent_type\u001b[0m\u001b[0;34m,\u001b[0m \u001b[0mex\u001b[0m\u001b[0;34m,\u001b[0m \u001b[0mfinal\u001b[0m\u001b[0;34m=\u001b[0m\u001b[0mnoop\u001b[0m\u001b[0;34m)\u001b[0m\u001b[0;34m:\u001b[0m\u001b[0;34m\u001b[0m\u001b[0;34m\u001b[0m\u001b[0m\n\u001b[0;32m--> 163\u001b[0;31m         \u001b[0;32mtry\u001b[0m\u001b[0;34m:\u001b[0m \u001b[0mself\u001b[0m\u001b[0;34m(\u001b[0m\u001b[0;34mf'before_{event_type}'\u001b[0m\u001b[0;34m)\u001b[0m\u001b[0;34m;\u001b[0m  \u001b[0mf\u001b[0m\u001b[0;34m(\u001b[0m\u001b[0;34m)\u001b[0m\u001b[0;34m\u001b[0m\u001b[0;34m\u001b[0m\u001b[0m\n\u001b[0m\u001b[1;32m    164\u001b[0m         \u001b[0;32mexcept\u001b[0m \u001b[0mex\u001b[0m\u001b[0;34m:\u001b[0m \u001b[0mself\u001b[0m\u001b[0;34m(\u001b[0m\u001b[0;34mf'after_cancel_{event_type}'\u001b[0m\u001b[0;34m)\u001b[0m\u001b[0;34m\u001b[0m\u001b[0;34m\u001b[0m\u001b[0m\n\u001b[1;32m    165\u001b[0m         \u001b[0mself\u001b[0m\u001b[0;34m(\u001b[0m\u001b[0;34mf'after_{event_type}'\u001b[0m\u001b[0;34m)\u001b[0m\u001b[0;34m;\u001b[0m  \u001b[0mfinal\u001b[0m\u001b[0;34m(\u001b[0m\u001b[0;34m)\u001b[0m\u001b[0;34m\u001b[0m\u001b[0;34m\u001b[0m\u001b[0m\n",
            "\u001b[0;32m/usr/local/lib/python3.7/dist-packages/fastai/learner.py\u001b[0m in \u001b[0;36m_do_one_batch\u001b[0;34m(self)\u001b[0m\n\u001b[1;32m    170\u001b[0m \u001b[0;34m\u001b[0m\u001b[0m\n\u001b[1;32m    171\u001b[0m     \u001b[0;32mdef\u001b[0m \u001b[0m_do_one_batch\u001b[0m\u001b[0;34m(\u001b[0m\u001b[0mself\u001b[0m\u001b[0;34m)\u001b[0m\u001b[0;34m:\u001b[0m\u001b[0;34m\u001b[0m\u001b[0;34m\u001b[0m\u001b[0m\n\u001b[0;32m--> 172\u001b[0;31m         \u001b[0mself\u001b[0m\u001b[0;34m.\u001b[0m\u001b[0mpred\u001b[0m \u001b[0;34m=\u001b[0m \u001b[0mself\u001b[0m\u001b[0;34m.\u001b[0m\u001b[0mmodel\u001b[0m\u001b[0;34m(\u001b[0m\u001b[0;34m*\u001b[0m\u001b[0mself\u001b[0m\u001b[0;34m.\u001b[0m\u001b[0mxb\u001b[0m\u001b[0;34m)\u001b[0m\u001b[0;34m\u001b[0m\u001b[0;34m\u001b[0m\u001b[0m\n\u001b[0m\u001b[1;32m    173\u001b[0m         \u001b[0mself\u001b[0m\u001b[0;34m(\u001b[0m\u001b[0;34m'after_pred'\u001b[0m\u001b[0;34m)\u001b[0m\u001b[0;34m\u001b[0m\u001b[0;34m\u001b[0m\u001b[0m\n\u001b[1;32m    174\u001b[0m         \u001b[0;32mif\u001b[0m \u001b[0mlen\u001b[0m\u001b[0;34m(\u001b[0m\u001b[0mself\u001b[0m\u001b[0;34m.\u001b[0m\u001b[0myb\u001b[0m\u001b[0;34m)\u001b[0m\u001b[0;34m:\u001b[0m\u001b[0;34m\u001b[0m\u001b[0;34m\u001b[0m\u001b[0m\n",
            "\u001b[0;32m/usr/local/lib/python3.7/dist-packages/torch/nn/modules/module.py\u001b[0m in \u001b[0;36m_call_impl\u001b[0;34m(self, *input, **kwargs)\u001b[0m\n\u001b[1;32m   1049\u001b[0m         if not (self._backward_hooks or self._forward_hooks or self._forward_pre_hooks or _global_backward_hooks\n\u001b[1;32m   1050\u001b[0m                 or _global_forward_hooks or _global_forward_pre_hooks):\n\u001b[0;32m-> 1051\u001b[0;31m             \u001b[0;32mreturn\u001b[0m \u001b[0mforward_call\u001b[0m\u001b[0;34m(\u001b[0m\u001b[0;34m*\u001b[0m\u001b[0minput\u001b[0m\u001b[0;34m,\u001b[0m \u001b[0;34m**\u001b[0m\u001b[0mkwargs\u001b[0m\u001b[0;34m)\u001b[0m\u001b[0;34m\u001b[0m\u001b[0;34m\u001b[0m\u001b[0m\n\u001b[0m\u001b[1;32m   1052\u001b[0m         \u001b[0;31m# Do not call functions when jit is used\u001b[0m\u001b[0;34m\u001b[0m\u001b[0;34m\u001b[0m\u001b[0;34m\u001b[0m\u001b[0m\n\u001b[1;32m   1053\u001b[0m         \u001b[0mfull_backward_hooks\u001b[0m\u001b[0;34m,\u001b[0m \u001b[0mnon_full_backward_hooks\u001b[0m \u001b[0;34m=\u001b[0m \u001b[0;34m[\u001b[0m\u001b[0;34m]\u001b[0m\u001b[0;34m,\u001b[0m \u001b[0;34m[\u001b[0m\u001b[0;34m]\u001b[0m\u001b[0;34m\u001b[0m\u001b[0;34m\u001b[0m\u001b[0m\n",
            "\u001b[0;32m/usr/local/lib/python3.7/dist-packages/torch/nn/modules/container.py\u001b[0m in \u001b[0;36mforward\u001b[0;34m(self, input)\u001b[0m\n\u001b[1;32m    137\u001b[0m     \u001b[0;32mdef\u001b[0m \u001b[0mforward\u001b[0m\u001b[0;34m(\u001b[0m\u001b[0mself\u001b[0m\u001b[0;34m,\u001b[0m \u001b[0minput\u001b[0m\u001b[0;34m)\u001b[0m\u001b[0;34m:\u001b[0m\u001b[0;34m\u001b[0m\u001b[0;34m\u001b[0m\u001b[0m\n\u001b[1;32m    138\u001b[0m         \u001b[0;32mfor\u001b[0m \u001b[0mmodule\u001b[0m \u001b[0;32min\u001b[0m \u001b[0mself\u001b[0m\u001b[0;34m:\u001b[0m\u001b[0;34m\u001b[0m\u001b[0;34m\u001b[0m\u001b[0m\n\u001b[0;32m--> 139\u001b[0;31m             \u001b[0minput\u001b[0m \u001b[0;34m=\u001b[0m \u001b[0mmodule\u001b[0m\u001b[0;34m(\u001b[0m\u001b[0minput\u001b[0m\u001b[0;34m)\u001b[0m\u001b[0;34m\u001b[0m\u001b[0;34m\u001b[0m\u001b[0m\n\u001b[0m\u001b[1;32m    140\u001b[0m         \u001b[0;32mreturn\u001b[0m \u001b[0minput\u001b[0m\u001b[0;34m\u001b[0m\u001b[0;34m\u001b[0m\u001b[0m\n\u001b[1;32m    141\u001b[0m \u001b[0;34m\u001b[0m\u001b[0m\n",
            "\u001b[0;32m/usr/local/lib/python3.7/dist-packages/torch/nn/modules/module.py\u001b[0m in \u001b[0;36m_call_impl\u001b[0;34m(self, *input, **kwargs)\u001b[0m\n\u001b[1;32m   1049\u001b[0m         if not (self._backward_hooks or self._forward_hooks or self._forward_pre_hooks or _global_backward_hooks\n\u001b[1;32m   1050\u001b[0m                 or _global_forward_hooks or _global_forward_pre_hooks):\n\u001b[0;32m-> 1051\u001b[0;31m             \u001b[0;32mreturn\u001b[0m \u001b[0mforward_call\u001b[0m\u001b[0;34m(\u001b[0m\u001b[0;34m*\u001b[0m\u001b[0minput\u001b[0m\u001b[0;34m,\u001b[0m \u001b[0;34m**\u001b[0m\u001b[0mkwargs\u001b[0m\u001b[0;34m)\u001b[0m\u001b[0;34m\u001b[0m\u001b[0;34m\u001b[0m\u001b[0m\n\u001b[0m\u001b[1;32m   1052\u001b[0m         \u001b[0;31m# Do not call functions when jit is used\u001b[0m\u001b[0;34m\u001b[0m\u001b[0;34m\u001b[0m\u001b[0;34m\u001b[0m\u001b[0m\n\u001b[1;32m   1053\u001b[0m         \u001b[0mfull_backward_hooks\u001b[0m\u001b[0;34m,\u001b[0m \u001b[0mnon_full_backward_hooks\u001b[0m \u001b[0;34m=\u001b[0m \u001b[0;34m[\u001b[0m\u001b[0;34m]\u001b[0m\u001b[0;34m,\u001b[0m \u001b[0;34m[\u001b[0m\u001b[0;34m]\u001b[0m\u001b[0;34m\u001b[0m\u001b[0;34m\u001b[0m\u001b[0m\n",
            "\u001b[0;32m/usr/local/lib/python3.7/dist-packages/fastai/text/models/core.py\u001b[0m in \u001b[0;36mforward\u001b[0;34m(self, input)\u001b[0m\n\u001b[1;32m     76\u001b[0m             \u001b[0;31m#Note: this expects that sequence really begins on a round multiple of bptt\u001b[0m\u001b[0;34m\u001b[0m\u001b[0;34m\u001b[0m\u001b[0;34m\u001b[0m\u001b[0m\n\u001b[1;32m     77\u001b[0m             \u001b[0mreal_bs\u001b[0m \u001b[0;34m=\u001b[0m \u001b[0;34m(\u001b[0m\u001b[0minput\u001b[0m\u001b[0;34m[\u001b[0m\u001b[0;34m:\u001b[0m\u001b[0;34m,\u001b[0m\u001b[0mi\u001b[0m\u001b[0;34m]\u001b[0m \u001b[0;34m!=\u001b[0m \u001b[0mself\u001b[0m\u001b[0;34m.\u001b[0m\u001b[0mpad_idx\u001b[0m\u001b[0;34m)\u001b[0m\u001b[0;34m.\u001b[0m\u001b[0mlong\u001b[0m\u001b[0;34m(\u001b[0m\u001b[0;34m)\u001b[0m\u001b[0;34m.\u001b[0m\u001b[0msum\u001b[0m\u001b[0;34m(\u001b[0m\u001b[0;34m)\u001b[0m\u001b[0;34m\u001b[0m\u001b[0;34m\u001b[0m\u001b[0m\n\u001b[0;32m---> 78\u001b[0;31m             \u001b[0mo\u001b[0m \u001b[0;34m=\u001b[0m \u001b[0mself\u001b[0m\u001b[0;34m.\u001b[0m\u001b[0mmodule\u001b[0m\u001b[0;34m(\u001b[0m\u001b[0minput\u001b[0m\u001b[0;34m[\u001b[0m\u001b[0;34m:\u001b[0m\u001b[0mreal_bs\u001b[0m\u001b[0;34m,\u001b[0m\u001b[0mi\u001b[0m\u001b[0;34m:\u001b[0m \u001b[0mmin\u001b[0m\u001b[0;34m(\u001b[0m\u001b[0mi\u001b[0m\u001b[0;34m+\u001b[0m\u001b[0mself\u001b[0m\u001b[0;34m.\u001b[0m\u001b[0mbptt\u001b[0m\u001b[0;34m,\u001b[0m \u001b[0msl\u001b[0m\u001b[0;34m)\u001b[0m\u001b[0;34m]\u001b[0m\u001b[0;34m)\u001b[0m\u001b[0;34m\u001b[0m\u001b[0;34m\u001b[0m\u001b[0m\n\u001b[0m\u001b[1;32m     79\u001b[0m             \u001b[0;32mif\u001b[0m \u001b[0mself\u001b[0m\u001b[0;34m.\u001b[0m\u001b[0mmax_len\u001b[0m \u001b[0;32mis\u001b[0m \u001b[0;32mNone\u001b[0m \u001b[0;32mor\u001b[0m \u001b[0msl\u001b[0m\u001b[0;34m-\u001b[0m\u001b[0mi\u001b[0m \u001b[0;34m<=\u001b[0m \u001b[0mself\u001b[0m\u001b[0;34m.\u001b[0m\u001b[0mmax_len\u001b[0m\u001b[0;34m:\u001b[0m\u001b[0;34m\u001b[0m\u001b[0;34m\u001b[0m\u001b[0m\n\u001b[1;32m     80\u001b[0m                 \u001b[0mouts\u001b[0m\u001b[0;34m.\u001b[0m\u001b[0mappend\u001b[0m\u001b[0;34m(\u001b[0m\u001b[0mo\u001b[0m\u001b[0;34m)\u001b[0m\u001b[0;34m\u001b[0m\u001b[0;34m\u001b[0m\u001b[0m\n",
            "\u001b[0;32m/usr/local/lib/python3.7/dist-packages/torch/nn/modules/module.py\u001b[0m in \u001b[0;36m_call_impl\u001b[0;34m(self, *input, **kwargs)\u001b[0m\n\u001b[1;32m   1049\u001b[0m         if not (self._backward_hooks or self._forward_hooks or self._forward_pre_hooks or _global_backward_hooks\n\u001b[1;32m   1050\u001b[0m                 or _global_forward_hooks or _global_forward_pre_hooks):\n\u001b[0;32m-> 1051\u001b[0;31m             \u001b[0;32mreturn\u001b[0m \u001b[0mforward_call\u001b[0m\u001b[0;34m(\u001b[0m\u001b[0;34m*\u001b[0m\u001b[0minput\u001b[0m\u001b[0;34m,\u001b[0m \u001b[0;34m**\u001b[0m\u001b[0mkwargs\u001b[0m\u001b[0;34m)\u001b[0m\u001b[0;34m\u001b[0m\u001b[0;34m\u001b[0m\u001b[0m\n\u001b[0m\u001b[1;32m   1052\u001b[0m         \u001b[0;31m# Do not call functions when jit is used\u001b[0m\u001b[0;34m\u001b[0m\u001b[0;34m\u001b[0m\u001b[0;34m\u001b[0m\u001b[0m\n\u001b[1;32m   1053\u001b[0m         \u001b[0mfull_backward_hooks\u001b[0m\u001b[0;34m,\u001b[0m \u001b[0mnon_full_backward_hooks\u001b[0m \u001b[0;34m=\u001b[0m \u001b[0;34m[\u001b[0m\u001b[0;34m]\u001b[0m\u001b[0;34m,\u001b[0m \u001b[0;34m[\u001b[0m\u001b[0;34m]\u001b[0m\u001b[0;34m\u001b[0m\u001b[0;34m\u001b[0m\u001b[0m\n",
            "\u001b[0;32m/usr/local/lib/python3.7/dist-packages/fastai/text/models/awdlstm.py\u001b[0m in \u001b[0;36mforward\u001b[0;34m(self, inp, from_embeds)\u001b[0m\n\u001b[1;32m    103\u001b[0m         \u001b[0mnew_hidden\u001b[0m \u001b[0;34m=\u001b[0m \u001b[0;34m[\u001b[0m\u001b[0;34m]\u001b[0m\u001b[0;34m\u001b[0m\u001b[0;34m\u001b[0m\u001b[0m\n\u001b[1;32m    104\u001b[0m         \u001b[0;32mfor\u001b[0m \u001b[0ml\u001b[0m\u001b[0;34m,\u001b[0m \u001b[0;34m(\u001b[0m\u001b[0mrnn\u001b[0m\u001b[0;34m,\u001b[0m\u001b[0mhid_dp\u001b[0m\u001b[0;34m)\u001b[0m \u001b[0;32min\u001b[0m \u001b[0menumerate\u001b[0m\u001b[0;34m(\u001b[0m\u001b[0mzip\u001b[0m\u001b[0;34m(\u001b[0m\u001b[0mself\u001b[0m\u001b[0;34m.\u001b[0m\u001b[0mrnns\u001b[0m\u001b[0;34m,\u001b[0m \u001b[0mself\u001b[0m\u001b[0;34m.\u001b[0m\u001b[0mhidden_dps\u001b[0m\u001b[0;34m)\u001b[0m\u001b[0;34m)\u001b[0m\u001b[0;34m:\u001b[0m\u001b[0;34m\u001b[0m\u001b[0;34m\u001b[0m\u001b[0m\n\u001b[0;32m--> 105\u001b[0;31m             \u001b[0moutput\u001b[0m\u001b[0;34m,\u001b[0m \u001b[0mnew_h\u001b[0m \u001b[0;34m=\u001b[0m \u001b[0mrnn\u001b[0m\u001b[0;34m(\u001b[0m\u001b[0moutput\u001b[0m\u001b[0;34m,\u001b[0m \u001b[0mself\u001b[0m\u001b[0;34m.\u001b[0m\u001b[0mhidden\u001b[0m\u001b[0;34m[\u001b[0m\u001b[0ml\u001b[0m\u001b[0;34m]\u001b[0m\u001b[0;34m)\u001b[0m\u001b[0;34m\u001b[0m\u001b[0;34m\u001b[0m\u001b[0m\n\u001b[0m\u001b[1;32m    106\u001b[0m             \u001b[0mnew_hidden\u001b[0m\u001b[0;34m.\u001b[0m\u001b[0mappend\u001b[0m\u001b[0;34m(\u001b[0m\u001b[0mnew_h\u001b[0m\u001b[0;34m)\u001b[0m\u001b[0;34m\u001b[0m\u001b[0;34m\u001b[0m\u001b[0m\n\u001b[1;32m    107\u001b[0m             \u001b[0;32mif\u001b[0m \u001b[0ml\u001b[0m \u001b[0;34m!=\u001b[0m \u001b[0mself\u001b[0m\u001b[0;34m.\u001b[0m\u001b[0mn_layers\u001b[0m \u001b[0;34m-\u001b[0m \u001b[0;36m1\u001b[0m\u001b[0;34m:\u001b[0m \u001b[0moutput\u001b[0m \u001b[0;34m=\u001b[0m \u001b[0mhid_dp\u001b[0m\u001b[0;34m(\u001b[0m\u001b[0moutput\u001b[0m\u001b[0;34m)\u001b[0m\u001b[0;34m\u001b[0m\u001b[0;34m\u001b[0m\u001b[0m\n",
            "\u001b[0;32m/usr/local/lib/python3.7/dist-packages/torch/nn/modules/module.py\u001b[0m in \u001b[0;36m_call_impl\u001b[0;34m(self, *input, **kwargs)\u001b[0m\n\u001b[1;32m   1049\u001b[0m         if not (self._backward_hooks or self._forward_hooks or self._forward_pre_hooks or _global_backward_hooks\n\u001b[1;32m   1050\u001b[0m                 or _global_forward_hooks or _global_forward_pre_hooks):\n\u001b[0;32m-> 1051\u001b[0;31m             \u001b[0;32mreturn\u001b[0m \u001b[0mforward_call\u001b[0m\u001b[0;34m(\u001b[0m\u001b[0;34m*\u001b[0m\u001b[0minput\u001b[0m\u001b[0;34m,\u001b[0m \u001b[0;34m**\u001b[0m\u001b[0mkwargs\u001b[0m\u001b[0;34m)\u001b[0m\u001b[0;34m\u001b[0m\u001b[0;34m\u001b[0m\u001b[0m\n\u001b[0m\u001b[1;32m   1052\u001b[0m         \u001b[0;31m# Do not call functions when jit is used\u001b[0m\u001b[0;34m\u001b[0m\u001b[0;34m\u001b[0m\u001b[0;34m\u001b[0m\u001b[0m\n\u001b[1;32m   1053\u001b[0m         \u001b[0mfull_backward_hooks\u001b[0m\u001b[0;34m,\u001b[0m \u001b[0mnon_full_backward_hooks\u001b[0m \u001b[0;34m=\u001b[0m \u001b[0;34m[\u001b[0m\u001b[0;34m]\u001b[0m\u001b[0;34m,\u001b[0m \u001b[0;34m[\u001b[0m\u001b[0;34m]\u001b[0m\u001b[0;34m\u001b[0m\u001b[0;34m\u001b[0m\u001b[0m\n",
            "\u001b[0;32m/usr/local/lib/python3.7/dist-packages/fastai/text/models/awdlstm.py\u001b[0m in \u001b[0;36mforward\u001b[0;34m(self, *args)\u001b[0m\n\u001b[1;32m     50\u001b[0m             \u001b[0;31m# To avoid the warning that comes because the weights aren't flattened.\u001b[0m\u001b[0;34m\u001b[0m\u001b[0;34m\u001b[0m\u001b[0;34m\u001b[0m\u001b[0m\n\u001b[1;32m     51\u001b[0m             \u001b[0mwarnings\u001b[0m\u001b[0;34m.\u001b[0m\u001b[0msimplefilter\u001b[0m\u001b[0;34m(\u001b[0m\u001b[0;34m\"ignore\"\u001b[0m\u001b[0;34m,\u001b[0m \u001b[0mcategory\u001b[0m\u001b[0;34m=\u001b[0m\u001b[0mUserWarning\u001b[0m\u001b[0;34m)\u001b[0m\u001b[0;34m\u001b[0m\u001b[0;34m\u001b[0m\u001b[0m\n\u001b[0;32m---> 52\u001b[0;31m             \u001b[0;32mreturn\u001b[0m \u001b[0mself\u001b[0m\u001b[0;34m.\u001b[0m\u001b[0mmodule\u001b[0m\u001b[0;34m(\u001b[0m\u001b[0;34m*\u001b[0m\u001b[0margs\u001b[0m\u001b[0;34m)\u001b[0m\u001b[0;34m\u001b[0m\u001b[0;34m\u001b[0m\u001b[0m\n\u001b[0m\u001b[1;32m     53\u001b[0m \u001b[0;34m\u001b[0m\u001b[0m\n\u001b[1;32m     54\u001b[0m     \u001b[0;32mdef\u001b[0m \u001b[0mreset\u001b[0m\u001b[0;34m(\u001b[0m\u001b[0mself\u001b[0m\u001b[0;34m)\u001b[0m\u001b[0;34m:\u001b[0m\u001b[0;34m\u001b[0m\u001b[0;34m\u001b[0m\u001b[0m\n",
            "\u001b[0;32m/usr/local/lib/python3.7/dist-packages/torch/nn/modules/module.py\u001b[0m in \u001b[0;36m_call_impl\u001b[0;34m(self, *input, **kwargs)\u001b[0m\n\u001b[1;32m   1049\u001b[0m         if not (self._backward_hooks or self._forward_hooks or self._forward_pre_hooks or _global_backward_hooks\n\u001b[1;32m   1050\u001b[0m                 or _global_forward_hooks or _global_forward_pre_hooks):\n\u001b[0;32m-> 1051\u001b[0;31m             \u001b[0;32mreturn\u001b[0m \u001b[0mforward_call\u001b[0m\u001b[0;34m(\u001b[0m\u001b[0;34m*\u001b[0m\u001b[0minput\u001b[0m\u001b[0;34m,\u001b[0m \u001b[0;34m**\u001b[0m\u001b[0mkwargs\u001b[0m\u001b[0;34m)\u001b[0m\u001b[0;34m\u001b[0m\u001b[0;34m\u001b[0m\u001b[0m\n\u001b[0m\u001b[1;32m   1052\u001b[0m         \u001b[0;31m# Do not call functions when jit is used\u001b[0m\u001b[0;34m\u001b[0m\u001b[0;34m\u001b[0m\u001b[0;34m\u001b[0m\u001b[0m\n\u001b[1;32m   1053\u001b[0m         \u001b[0mfull_backward_hooks\u001b[0m\u001b[0;34m,\u001b[0m \u001b[0mnon_full_backward_hooks\u001b[0m \u001b[0;34m=\u001b[0m \u001b[0;34m[\u001b[0m\u001b[0;34m]\u001b[0m\u001b[0;34m,\u001b[0m \u001b[0;34m[\u001b[0m\u001b[0;34m]\u001b[0m\u001b[0;34m\u001b[0m\u001b[0;34m\u001b[0m\u001b[0m\n",
            "\u001b[0;32m/usr/local/lib/python3.7/dist-packages/torch/nn/modules/rnn.py\u001b[0m in \u001b[0;36mforward\u001b[0;34m(self, input, hx)\u001b[0m\n\u001b[1;32m    678\u001b[0m         \u001b[0;32mif\u001b[0m \u001b[0mbatch_sizes\u001b[0m \u001b[0;32mis\u001b[0m \u001b[0;32mNone\u001b[0m\u001b[0;34m:\u001b[0m\u001b[0;34m\u001b[0m\u001b[0;34m\u001b[0m\u001b[0m\n\u001b[1;32m    679\u001b[0m             result = _VF.lstm(input, hx, self._flat_weights, self.bias, self.num_layers,\n\u001b[0;32m--> 680\u001b[0;31m                               self.dropout, self.training, self.bidirectional, self.batch_first)\n\u001b[0m\u001b[1;32m    681\u001b[0m         \u001b[0;32melse\u001b[0m\u001b[0;34m:\u001b[0m\u001b[0;34m\u001b[0m\u001b[0;34m\u001b[0m\u001b[0m\n\u001b[1;32m    682\u001b[0m             result = _VF.lstm(input, batch_sizes, hx, self._flat_weights, self.bias,\n",
            "\u001b[0;32m/usr/local/lib/python3.7/dist-packages/fastai/torch_core.py\u001b[0m in \u001b[0;36m__torch_function__\u001b[0;34m(self, func, types, args, kwargs)\u001b[0m\n\u001b[1;32m    338\u001b[0m         \u001b[0mconvert\u001b[0m\u001b[0;34m=\u001b[0m\u001b[0;32mFalse\u001b[0m\u001b[0;34m\u001b[0m\u001b[0;34m\u001b[0m\u001b[0m\n\u001b[1;32m    339\u001b[0m         \u001b[0;32mif\u001b[0m \u001b[0m_torch_handled\u001b[0m\u001b[0;34m(\u001b[0m\u001b[0margs\u001b[0m\u001b[0;34m,\u001b[0m \u001b[0mself\u001b[0m\u001b[0;34m.\u001b[0m\u001b[0m_opt\u001b[0m\u001b[0;34m,\u001b[0m \u001b[0mfunc\u001b[0m\u001b[0;34m)\u001b[0m\u001b[0;34m:\u001b[0m \u001b[0mconvert\u001b[0m\u001b[0;34m,\u001b[0m\u001b[0mtypes\u001b[0m \u001b[0;34m=\u001b[0m \u001b[0mtype\u001b[0m\u001b[0;34m(\u001b[0m\u001b[0mself\u001b[0m\u001b[0;34m)\u001b[0m\u001b[0;34m,\u001b[0m\u001b[0;34m(\u001b[0m\u001b[0mtorch\u001b[0m\u001b[0;34m.\u001b[0m\u001b[0mTensor\u001b[0m\u001b[0;34m,\u001b[0m\u001b[0;34m)\u001b[0m\u001b[0;34m\u001b[0m\u001b[0;34m\u001b[0m\u001b[0m\n\u001b[0;32m--> 340\u001b[0;31m         \u001b[0mres\u001b[0m \u001b[0;34m=\u001b[0m \u001b[0msuper\u001b[0m\u001b[0;34m(\u001b[0m\u001b[0;34m)\u001b[0m\u001b[0;34m.\u001b[0m\u001b[0m__torch_function__\u001b[0m\u001b[0;34m(\u001b[0m\u001b[0mfunc\u001b[0m\u001b[0;34m,\u001b[0m \u001b[0mtypes\u001b[0m\u001b[0;34m,\u001b[0m \u001b[0margs\u001b[0m\u001b[0;34m=\u001b[0m\u001b[0margs\u001b[0m\u001b[0;34m,\u001b[0m \u001b[0mkwargs\u001b[0m\u001b[0;34m=\u001b[0m\u001b[0mkwargs\u001b[0m\u001b[0;34m)\u001b[0m\u001b[0;34m\u001b[0m\u001b[0;34m\u001b[0m\u001b[0m\n\u001b[0m\u001b[1;32m    341\u001b[0m         \u001b[0;32mif\u001b[0m \u001b[0mconvert\u001b[0m\u001b[0;34m:\u001b[0m \u001b[0mres\u001b[0m \u001b[0;34m=\u001b[0m \u001b[0mconvert\u001b[0m\u001b[0;34m(\u001b[0m\u001b[0mres\u001b[0m\u001b[0;34m)\u001b[0m\u001b[0;34m\u001b[0m\u001b[0;34m\u001b[0m\u001b[0m\n\u001b[1;32m    342\u001b[0m         \u001b[0;32mif\u001b[0m \u001b[0misinstance\u001b[0m\u001b[0;34m(\u001b[0m\u001b[0mres\u001b[0m\u001b[0;34m,\u001b[0m \u001b[0mTensorBase\u001b[0m\u001b[0;34m)\u001b[0m\u001b[0;34m:\u001b[0m \u001b[0mres\u001b[0m\u001b[0;34m.\u001b[0m\u001b[0mset_meta\u001b[0m\u001b[0;34m(\u001b[0m\u001b[0mself\u001b[0m\u001b[0;34m,\u001b[0m \u001b[0mas_copy\u001b[0m\u001b[0;34m=\u001b[0m\u001b[0;32mTrue\u001b[0m\u001b[0;34m)\u001b[0m\u001b[0;34m\u001b[0m\u001b[0;34m\u001b[0m\u001b[0m\n",
            "\u001b[0;32m/usr/local/lib/python3.7/dist-packages/torch/_tensor.py\u001b[0m in \u001b[0;36m__torch_function__\u001b[0;34m(cls, func, types, args, kwargs)\u001b[0m\n\u001b[1;32m   1021\u001b[0m \u001b[0;34m\u001b[0m\u001b[0m\n\u001b[1;32m   1022\u001b[0m         \u001b[0;32mwith\u001b[0m \u001b[0m_C\u001b[0m\u001b[0;34m.\u001b[0m\u001b[0mDisableTorchFunction\u001b[0m\u001b[0;34m(\u001b[0m\u001b[0;34m)\u001b[0m\u001b[0;34m:\u001b[0m\u001b[0;34m\u001b[0m\u001b[0;34m\u001b[0m\u001b[0m\n\u001b[0;32m-> 1023\u001b[0;31m             \u001b[0mret\u001b[0m \u001b[0;34m=\u001b[0m \u001b[0mfunc\u001b[0m\u001b[0;34m(\u001b[0m\u001b[0;34m*\u001b[0m\u001b[0margs\u001b[0m\u001b[0;34m,\u001b[0m \u001b[0;34m**\u001b[0m\u001b[0mkwargs\u001b[0m\u001b[0;34m)\u001b[0m\u001b[0;34m\u001b[0m\u001b[0;34m\u001b[0m\u001b[0m\n\u001b[0m\u001b[1;32m   1024\u001b[0m             \u001b[0;32mreturn\u001b[0m \u001b[0m_convert\u001b[0m\u001b[0;34m(\u001b[0m\u001b[0mret\u001b[0m\u001b[0;34m,\u001b[0m \u001b[0mcls\u001b[0m\u001b[0;34m)\u001b[0m\u001b[0;34m\u001b[0m\u001b[0;34m\u001b[0m\u001b[0m\n\u001b[1;32m   1025\u001b[0m \u001b[0;34m\u001b[0m\u001b[0m\n",
            "\u001b[0;32m/usr/local/lib/python3.7/dist-packages/torch/utils/data/_utils/signal_handling.py\u001b[0m in \u001b[0;36mhandler\u001b[0;34m(signum, frame)\u001b[0m\n\u001b[1;32m     64\u001b[0m         \u001b[0;31m# This following call uses `waitid` with WNOHANG from C side. Therefore,\u001b[0m\u001b[0;34m\u001b[0m\u001b[0;34m\u001b[0m\u001b[0;34m\u001b[0m\u001b[0m\n\u001b[1;32m     65\u001b[0m         \u001b[0;31m# Python can still get and update the process status successfully.\u001b[0m\u001b[0;34m\u001b[0m\u001b[0;34m\u001b[0m\u001b[0;34m\u001b[0m\u001b[0m\n\u001b[0;32m---> 66\u001b[0;31m         \u001b[0m_error_if_any_worker_fails\u001b[0m\u001b[0;34m(\u001b[0m\u001b[0;34m)\u001b[0m\u001b[0;34m\u001b[0m\u001b[0;34m\u001b[0m\u001b[0m\n\u001b[0m\u001b[1;32m     67\u001b[0m         \u001b[0;32mif\u001b[0m \u001b[0mprevious_handler\u001b[0m \u001b[0;32mis\u001b[0m \u001b[0;32mnot\u001b[0m \u001b[0;32mNone\u001b[0m\u001b[0;34m:\u001b[0m\u001b[0;34m\u001b[0m\u001b[0;34m\u001b[0m\u001b[0m\n\u001b[1;32m     68\u001b[0m             \u001b[0;32massert\u001b[0m \u001b[0mcallable\u001b[0m\u001b[0;34m(\u001b[0m\u001b[0mprevious_handler\u001b[0m\u001b[0;34m)\u001b[0m\u001b[0;34m\u001b[0m\u001b[0;34m\u001b[0m\u001b[0m\n",
            "\u001b[0;31mRuntimeError\u001b[0m: DataLoader worker (pid 302) exited unexpectedly with exit code 1. Details are lost due to multiprocessing. Rerunning with num_workers=0 may give better error trace."
          ]
        }
      ]
    },
    {
      "cell_type": "markdown",
      "metadata": {
        "id": "jnBC96KOFgpO"
      },
      "source": [
        "## Combine DataLoaders\n",
        "\n",
        "> 'What we want to do is override both DataLoader's shuffle_fn, as what this function does is return a list of index's to grab. If the index's are the same, the data is the same, and that's all there is to it. In this particular case, we're going to be calling their shuffle_fn, etc multiple times, so we need to keep track of who actually is being called. We'll store this in a value called count. When it's 0, we'll grab some index's. When it's 1, we will return those index's (this is done at the beginning of each epoch to shuffle the DataLoader'"
      ]
    },
    {
      "cell_type": "markdown",
      "metadata": {
        "id": "J9yjx0FkNIBw"
      },
      "source": [
        "### MixedDLS\n",
        "\n",
        "ATTN: DataLoaders vs DataLoader ###TBD???\n",
        "\n",
        "- DataLoaders loads df and then splits df into train data & valid data\n",
        "\n",
        "- DataLoader loads train_df and valid_df separately and results in \n",
        "\n",
        "  - `dl_tab_train`, `dl_tab_test` for tabular\n",
        "\n",
        "  - `dl_txt_train`, `dl_txt_test` for text\n",
        "\n",
        "Example: https://github.com/MaramMonshi/CovidXrayNet/blob/main/Dataset/COVIDcxr-mixed.ipynb"
      ]
    },
    {
      "cell_type": "code",
      "metadata": {
        "id": "sDYrrr3xDDWU"
      },
      "source": [
        "from fastai.data.load import _loaders, _FakeLoader\n",
        "\n",
        "class MixedDLS():\n",
        "    def __init__(self, tab_dls:TabularDataLoaders, txt_dls:TextDataLoaders, device = device):\n",
        "        \"Stores away `tab_dl` and `txt_dl`, and overrides `shuffle_fn`\"\n",
        "        self.device = device\n",
        "        tab_dls.shuffle_fn = self.shuffle_fn\n",
        "        txt_dls.shuffle_fn = self.shuffle_fn\n",
        "        self.dls = [tab_dls, txt_dls]\n",
        "        self.count = 0\n",
        "        self.fake_l = _FakeLoader(self, False, 0, 0, persistent_workers=False) # persistent_workers: https://bowenroom.github.io/myBlog/pytorch/fastai/2021/01/27/fastai-dataloader.html\n",
        "    \n",
        "    def __len__(self): \n",
        "        \"\"\"to return the length of one of our DataLoaders\"\"\"\n",
        "        return len(self.dls[0])\n",
        "        \n",
        "    def shuffle_fn(self, idxs):\n",
        "        \"Generates a new list of index that will be stored inside `self.rng`; those indexs will be changed every 2 times shuffle_fn is called to ensure both tab_dls and txt_dls get the same set of indexs for batch.\"\n",
        "        if self.count == 0: # if we haven't generated an rng yet\n",
        "            self.rng = self.dls[0].rng.sample(idxs, len(idxs))\n",
        "            self.count += 1\n",
        "            return self.rng\n",
        "        else:\n",
        "            self.count = 0\n",
        "            return self.rng\n",
        "        \n",
        "    def to(self, device): \n",
        "        \"\"\"to set the name of device\"\"\"\n",
        "        self.device = device\n",
        "\n",
        "    def __iter__(self):\n",
        "        \"\"\"Iterate over your `DataLoader`\n",
        "        iterator needs to \n",
        "        - take all of our batches from our loaders and \n",
        "        - perform the `after_batch` transform for those outputs from their respective `DataLoader` before finally being put into a batch, also \n",
        "        - moving each to the `device`.\n",
        "        \"\"\"\n",
        "        z = zip(*[_loaders[i.fake_l.num_workers==0](i.fake_l) for i in self.dls])\n",
        "        for b in z:\n",
        "            if self.device is not None: \n",
        "                b = to_device(b, self.device)\n",
        "            batch = []\n",
        "            batch.extend(self.dls[0].after_batch(b[0])[:2]) # tabular cat and cont\n",
        "            batch.append(self.dls[1].after_batch(b[1][0])) # text ???TBD\n",
        "            try: # In case the data is unlabelled\n",
        "                batch.append(b[1][1]) # y\n",
        "                yield tuple(batch)\n",
        "            except:\n",
        "                yield tuple(batch)\n",
        "\n",
        "    def one_batch(self):\n",
        "        \"\"\"Grab a batch from the `DataLoader`\"\"\"\n",
        "        with self.fake_l.no_multiproc(): res = first(self)\n",
        "        if hasattr(self, 'it'): delattr(self, 'it')\n",
        "        return res\n",
        "\n",
        "    def show_batch(self):\n",
        "        \"Show a batch from multiple `DataLoaders`\"\n",
        "        for dl in self.dls:\n",
        "            dl.show_batch()"
      ],
      "execution_count": 17,
      "outputs": []
    },
    {
      "cell_type": "code",
      "metadata": {
        "id": "lyte5JVAnfWY"
      },
      "source": [
        "mixed_dls = MixedDLS(dls_tab, dls_txt)"
      ],
      "execution_count": 18,
      "outputs": []
    },
    {
      "cell_type": "code",
      "metadata": {
        "colab": {
          "base_uri": "https://localhost:8080/",
          "height": 1000
        },
        "id": "lmYxs3Z-wsCe",
        "outputId": "90862a90-a87f-4186-f803-944d1e3470c4"
      },
      "source": [
        "mixed_dls.show_batch()"
      ],
      "execution_count": 19,
      "outputs": [
        {
          "output_type": "display_data",
          "data": {
            "text/html": [
              "<table border=\"1\" class=\"dataframe\">\n",
              "  <thead>\n",
              "    <tr style=\"text-align: right;\">\n",
              "      <th></th>\n",
              "      <th>Clothing ID</th>\n",
              "      <th>Division Name</th>\n",
              "      <th>Department Name</th>\n",
              "      <th>Class Name</th>\n",
              "      <th>Rating</th>\n",
              "      <th>Age</th>\n",
              "      <th>Positive Feedback Count</th>\n",
              "      <th>Recommended IND</th>\n",
              "    </tr>\n",
              "  </thead>\n",
              "  <tbody>\n",
              "    <tr>\n",
              "      <th>0</th>\n",
              "      <td>1053</td>\n",
              "      <td>General Petite</td>\n",
              "      <td>Bottoms</td>\n",
              "      <td>Pants</td>\n",
              "      <td>3.0</td>\n",
              "      <td>42.000000</td>\n",
              "      <td>-1.312539e-08</td>\n",
              "      <td>1</td>\n",
              "    </tr>\n",
              "    <tr>\n",
              "      <th>1</th>\n",
              "      <td>927</td>\n",
              "      <td>General Petite</td>\n",
              "      <td>Tops</td>\n",
              "      <td>Sweaters</td>\n",
              "      <td>5.0</td>\n",
              "      <td>23.000000</td>\n",
              "      <td>-1.312539e-08</td>\n",
              "      <td>1</td>\n",
              "    </tr>\n",
              "    <tr>\n",
              "      <th>2</th>\n",
              "      <td>571</td>\n",
              "      <td>General</td>\n",
              "      <td>Trend</td>\n",
              "      <td>Trend</td>\n",
              "      <td>5.0</td>\n",
              "      <td>42.000000</td>\n",
              "      <td>2.000000e+00</td>\n",
              "      <td>1</td>\n",
              "    </tr>\n",
              "    <tr>\n",
              "      <th>3</th>\n",
              "      <td>387</td>\n",
              "      <td>Initmates</td>\n",
              "      <td>Intimate</td>\n",
              "      <td>Intimates</td>\n",
              "      <td>5.0</td>\n",
              "      <td>34.000000</td>\n",
              "      <td>-1.312539e-08</td>\n",
              "      <td>1</td>\n",
              "    </tr>\n",
              "    <tr>\n",
              "      <th>4</th>\n",
              "      <td>1078</td>\n",
              "      <td>General</td>\n",
              "      <td>Dresses</td>\n",
              "      <td>Dresses</td>\n",
              "      <td>5.0</td>\n",
              "      <td>50.000000</td>\n",
              "      <td>-1.312539e-08</td>\n",
              "      <td>1</td>\n",
              "    </tr>\n",
              "    <tr>\n",
              "      <th>5</th>\n",
              "      <td>826</td>\n",
              "      <td>General</td>\n",
              "      <td>Tops</td>\n",
              "      <td>Blouses</td>\n",
              "      <td>5.0</td>\n",
              "      <td>66.000000</td>\n",
              "      <td>1.000000e+00</td>\n",
              "      <td>1</td>\n",
              "    </tr>\n",
              "    <tr>\n",
              "      <th>6</th>\n",
              "      <td>829</td>\n",
              "      <td>General</td>\n",
              "      <td>Tops</td>\n",
              "      <td>Blouses</td>\n",
              "      <td>4.0</td>\n",
              "      <td>62.000000</td>\n",
              "      <td>2.800000e+01</td>\n",
              "      <td>1</td>\n",
              "    </tr>\n",
              "    <tr>\n",
              "      <th>7</th>\n",
              "      <td>931</td>\n",
              "      <td>General</td>\n",
              "      <td>Tops</td>\n",
              "      <td>Sweaters</td>\n",
              "      <td>4.0</td>\n",
              "      <td>39.000000</td>\n",
              "      <td>1.000000e+00</td>\n",
              "      <td>1</td>\n",
              "    </tr>\n",
              "    <tr>\n",
              "      <th>8</th>\n",
              "      <td>964</td>\n",
              "      <td>General Petite</td>\n",
              "      <td>Jackets</td>\n",
              "      <td>Jackets</td>\n",
              "      <td>5.0</td>\n",
              "      <td>24.999999</td>\n",
              "      <td>-1.312539e-08</td>\n",
              "      <td>1</td>\n",
              "    </tr>\n",
              "    <tr>\n",
              "      <th>9</th>\n",
              "      <td>988</td>\n",
              "      <td>General Petite</td>\n",
              "      <td>Bottoms</td>\n",
              "      <td>Skirts</td>\n",
              "      <td>3.0</td>\n",
              "      <td>23.000000</td>\n",
              "      <td>1.500000e+01</td>\n",
              "      <td>0</td>\n",
              "    </tr>\n",
              "  </tbody>\n",
              "</table>"
            ],
            "text/plain": [
              "<IPython.core.display.HTML object>"
            ]
          },
          "metadata": {}
        },
        {
          "output_type": "display_data",
          "data": {
            "text/html": [
              "<table border=\"1\" class=\"dataframe\">\n",
              "  <thead>\n",
              "    <tr style=\"text-align: right;\">\n",
              "      <th></th>\n",
              "      <th>text</th>\n",
              "      <th>category</th>\n",
              "    </tr>\n",
              "  </thead>\n",
              "  <tbody>\n",
              "    <tr>\n",
              "      <th>0</th>\n",
              "      <td>xxbos xxfld 1 xxmaj it 's huge . xxfld 2 xxmaj no , but i 'm not a small person . i 'm 5'8 , a size 6 on top , 8 on bottom . i do n't love this on the model online , but i saw this on xxunk 's blog , love xxunk , and thought it looked amazing . i tried it on in my retailer , and while they only had a m / l , since i 'm tall , i figured that 'd be fine . oh . no . not fine . it 's huge . like , it could almost cover a twin bed . it was a couple inches longer on me than on the model , and does n't xxunk down in a drape nearly as well , so just looks , h xxrep 3 u ge . i</td>\n",
              "      <td>0</td>\n",
              "    </tr>\n",
              "    <tr>\n",
              "      <th>1</th>\n",
              "      <td>xxbos xxfld 1 xxmaj works if you 're broad shouldered xxfld 2 xxmaj if you are like me and your shoulders are broader than your hips , the boat - neck on this wo n't be too wide on you . \\n▁ xxrep 10 - \\n i am normally a m or l in retailer tops , and went with the m , and i have very large biceps . if you 're broad - shouldered but have smaller arms , i would recommended sizing down a size . \\n▁ xxrep 10 - \\n i have a very long torso and did n't find this to be too short … but i love jeans with a 10 \" rise . if you are going to pair this with low or medium ( 8.5 \" ) rise jeans , then yes , you will</td>\n",
              "      <td>1</td>\n",
              "    </tr>\n",
              "    <tr>\n",
              "      <th>2</th>\n",
              "      <td>xxbos xxfld 1 xxmaj so comfy , great cut , pockets , win for petites xxfld 2 xxmaj my new favorite ! i would n't have thought twice about this dress xxunk on a rack in store , but after seeing so many cute pics of ladies in this dress , i caved . i needed a petite , so ordered a sp and xsp . the length on both is perfect . i 'm 5'0 \" and both hit above my knee in front and hit at in back and on sides . i did n't try on a regular in store , but based on the sp / xsp , i 'm pretty sure there 'd be too much material for a petite frame . the xsp is cut slimmer and if i had a tiny waist , i 'd xxunk</td>\n",
              "      <td>1</td>\n",
              "    </tr>\n",
              "    <tr>\n",
              "      <th>3</th>\n",
              "      <td>xxbos xxfld 1 xxmaj not flattering . xxfld 2 1 . i 've been waiting forever for these to finally arrive . i was a bit disappointed . \\r\\n\\r\\n 2 . i 'm 5'5 \" tall , 145 lbs , and 38 - 32 - 40 . my normal size 30 's fit me perfectly , if a bit loose . they fit a lot like the hyphens . \\r\\n\\r\\n 3 . the legs are short and wide . they hit me at the ankle , which made them look like high waters on me . \\r\\n\\r\\n 4 . the legs are very , very wide , and i did n't think that was flattering on me . \\r\\n\\r\\n 5 . same comfy fabric and fit as the hyphens , except the front seemed to dip low at the waist i</td>\n",
              "      <td>1</td>\n",
              "    </tr>\n",
              "    <tr>\n",
              "      <th>4</th>\n",
              "      <td>xxbos xxfld 1 xxmaj could n't wait to see this in person ! xxfld 2 i had my eye on this dress since it fist came out , but hesitated to order due to some of the lower reviews . when i got a chance to try it on - i loved it ! i did go up a size . i am 5'5 \" so i had it shortened to above the knee , i did n't mind losing the unfinished hem - had the hem match that of the pockets . i am a 34c but the bodice is stable and even if i pull at it , it stays put ! so happy to find this , especially on sale ! i plan to wear it at our company party which is help on a large xxunk bo</td>\n",
              "      <td>1</td>\n",
              "    </tr>\n",
              "    <tr>\n",
              "      <th>5</th>\n",
              "      <td>xxbos xxfld 1 xxmaj fades ! falling apart . xxfld 2 xxmaj within 2 washings the color faded to a not so black black , like a pair of pants that has been washed over a year 's use . after 5 or so washes the hook and eye closure began to fall off . the pants fit well , albeit a bit short ( i 'm 5'9 \" ) and they run small . i sized up to a 6 , when i usually am between a 2 or 4 . i let the hem out , sewed the hook and eye closure back on and xxunk them , and now they are good to go , but for nearly $ 90 i do n't expect to have to do this much work . these are not my first</td>\n",
              "      <td>0</td>\n",
              "    </tr>\n",
              "    <tr>\n",
              "      <th>6</th>\n",
              "      <td>xxbos xxfld 1 xxmaj great transitional dress ! xxfld 2 xxmaj after reading the reviews , stating that this dress was a tent and only fit for the tall and small chested , i kind of had a battle of xxunk in my head over ordering it . it is very \" me , \" but me is also 5'5 , curvy , and xxunk a 36 g bust . i had to post a review , because i received the dress today , and i actually love it . i ordered a 16 and i love the fit . i know it 's flowy , but on me , it 's far from tent - like . i think it 's great now as a pre - fall piece with some sandals and a jean jacket , and as</td>\n",
              "      <td>1</td>\n",
              "    </tr>\n",
              "    <tr>\n",
              "      <th>7</th>\n",
              "      <td>xxbos xxfld 1 xxmaj quite soft but prone to pilling xxfld 2 xxmaj this ' poor boy ' mock t - neck / high crew neck top looks a tiny bit more olive to me than the online photos . the fit runs on the smaller size , and the sleeves will be bracelet length or 3 / 4 length for taller women . \\n . \\n i tried a size xs that was in the store and it fit with the sleeves just above my wrists , but a size s would have been fine too ( i 'm 5'2 \" , currently 33 - 25 - 37 , narrow shoulders and xxunk reference , even the size m of the short sleeve version fit fine , so there is a lot of give . \\n . \\n no</td>\n",
              "      <td>1</td>\n",
              "    </tr>\n",
              "    <tr>\n",
              "      <th>8</th>\n",
              "      <td>xxbos xxfld 1 xxmaj cute cover - up or summer top &amp; shorts ! xxfld 2 xxmaj lightweight , soft cotton top and shorts . i think it 's meant to be a beach cover - up but i 'm wearing it as a thin , light - weight summer outfit on these hot hot days . the top has a loose elastic around the bottom which i did n't realize when i ordered it , but i like it and it matches the look in the photos . and the shorts are very low - cut - do n't expect them up around your waist . again , i like that . some might want to wear a cami underneath because it 's a thin cotton but i 'm fine as - is . i bought it i</td>\n",
              "      <td>1</td>\n",
              "    </tr>\n",
              "  </tbody>\n",
              "</table>"
            ],
            "text/plain": [
              "<IPython.core.display.HTML object>"
            ]
          },
          "metadata": {}
        }
      ]
    },
    {
      "cell_type": "code",
      "metadata": {
        "colab": {
          "base_uri": "https://localhost:8080/"
        },
        "id": "0JjmAkv_ge1J",
        "outputId": "8b31e5db-92fb-4959-abd4-ea9965fbfd77"
      },
      "source": [
        "dls_tab[0].get_idxs()[:7], dls_tab[1].get_idxs()[:7]"
      ],
      "execution_count": 20,
      "outputs": [
        {
          "output_type": "execute_result",
          "data": {
            "text/plain": [
              "([7492, 8306, 10954, 9004, 9175, 11336, 13762], [0, 1, 2, 3, 4, 5, 6])"
            ]
          },
          "metadata": {},
          "execution_count": 20
        }
      ]
    },
    {
      "cell_type": "code",
      "metadata": {
        "colab": {
          "base_uri": "https://localhost:8080/"
        },
        "id": "FC0cqSrwkr3y",
        "outputId": "e17af320-f867-4762-9a54-16e15b05db8a"
      },
      "source": [
        "list(dls_txt[0].get_idxs())[:7], list(dls_txt[1].get_idxs())[:7]"
      ],
      "execution_count": 21,
      "outputs": [
        {
          "output_type": "execute_result",
          "data": {
            "text/plain": [
              "([18436, 6118, 16780, 18686, 16978, 3167, 13587],\n",
              " [2248, 1046, 631, 3033, 215, 1465, 1658])"
            ]
          },
          "metadata": {},
          "execution_count": 21
        }
      ]
    },
    {
      "cell_type": "markdown",
      "metadata": {
        "id": "qPE7xc9Og_6o"
      },
      "source": [
        "### Testing: for train data, dbck mixed_dls line up tabular & text correctly"
      ]
    },
    {
      "cell_type": "code",
      "metadata": {
        "id": "plNMyNYswzcJ"
      },
      "source": [
        "\n",
        "mixed_dls_train = MixedDLS(dls_tab[0], dls_txt[0]) # 0 for train"
      ],
      "execution_count": 22,
      "outputs": []
    },
    {
      "cell_type": "code",
      "metadata": {
        "colab": {
          "base_uri": "https://localhost:8080/"
        },
        "id": "tKNkRqxzxXRY",
        "outputId": "249e2bb8-6783-4c19-f923-ef939a42def8"
      },
      "source": [
        "mixed_dls_train.dls[0].get_idxs()[:10]"
      ],
      "execution_count": 23,
      "outputs": [
        {
          "output_type": "execute_result",
          "data": {
            "text/plain": [
              "[10082, 7837, 5429, 14521, 2930, 4039, 9681, 11515, 5976, 10934]"
            ]
          },
          "metadata": {},
          "execution_count": 23
        }
      ]
    },
    {
      "cell_type": "code",
      "metadata": {
        "colab": {
          "base_uri": "https://localhost:8080/"
        },
        "id": "pXBGKogjypId",
        "outputId": "10e53db5-463c-4662-fd4a-c35ef97aa1b0"
      },
      "source": [
        "mixed_dls_train.dls[1].get_idxs()[:10]"
      ],
      "execution_count": 24,
      "outputs": [
        {
          "output_type": "execute_result",
          "data": {
            "text/plain": [
              "[10082, 7837, 5429, 14521, 2930, 4039, 9681, 11515, 5976, 10934]"
            ]
          },
          "metadata": {},
          "execution_count": 24
        }
      ]
    },
    {
      "cell_type": "markdown",
      "metadata": {
        "id": "BeTeGLCfhbG5"
      },
      "source": [
        "### Testing: for test data, dbck mixed_dls line up tabular & text correctly"
      ]
    },
    {
      "cell_type": "code",
      "metadata": {
        "id": "RdRMC2g5hfxs"
      },
      "source": [
        "\n",
        "mixed_dls_test = MixedDLS(dls_tab[1], dls_tab[1]) # 1 for test"
      ],
      "execution_count": 25,
      "outputs": []
    },
    {
      "cell_type": "code",
      "metadata": {
        "colab": {
          "base_uri": "https://localhost:8080/"
        },
        "id": "BBlKaCRih24P",
        "outputId": "cd54fa5f-1797-4239-a75f-cd66f788c0bf"
      },
      "source": [
        "mixed_dls_test.dls[0].get_idxs()[:10] ### TBD?? it never changes <= not shuffled properly"
      ],
      "execution_count": 26,
      "outputs": [
        {
          "output_type": "execute_result",
          "data": {
            "text/plain": [
              "[0, 1, 2, 3, 4, 5, 6, 7, 8, 9]"
            ]
          },
          "metadata": {},
          "execution_count": 26
        }
      ]
    },
    {
      "cell_type": "code",
      "metadata": {
        "colab": {
          "base_uri": "https://localhost:8080/"
        },
        "id": "IbcpPIm2h28O",
        "outputId": "a0134a7a-3366-432a-c075-634e4ace91dc"
      },
      "source": [
        "mixed_dls_test.dls[1].get_idxs()[:10] ### TBD?? it never changes <= not shuffled properly"
      ],
      "execution_count": 27,
      "outputs": [
        {
          "output_type": "execute_result",
          "data": {
            "text/plain": [
              "[0, 1, 2, 3, 4, 5, 6, 7, 8, 9]"
            ]
          },
          "metadata": {},
          "execution_count": 27
        }
      ]
    },
    {
      "cell_type": "markdown",
      "metadata": {
        "id": "K1OlhAUZyyNl"
      },
      "source": [
        "The above shows that the data is being shuffled the exact same way for `tab_dls` and `txt_dls`.\n",
        "\n",
        "\n",
        "Now let's exam `.one_batch()`: one_batch will need to call the first from the DataLoader (which is just next(iter(dl))), and if we are keeping track of an iterator, delete it. Finally returning our batch\n",
        "\n"
      ]
    },
    {
      "cell_type": "code",
      "metadata": {
        "colab": {
          "base_uri": "https://localhost:8080/"
        },
        "id": "CfnWRW_zyqwX",
        "outputId": "69ae5f8d-dbe9-43bf-a937-6a313548c57d"
      },
      "source": [
        "batch = mixed_dls.one_batch()\n",
        "\n",
        "batch[0]"
      ],
      "execution_count": 28,
      "outputs": [
        {
          "output_type": "stream",
          "name": "stderr",
          "text": [
            "Exception ignored in: <generator object MixedDLS.__iter__ at 0x7fd8b9487550>\n",
            "RuntimeError: generator ignored GeneratorExit\n"
          ]
        },
        {
          "output_type": "execute_result",
          "data": {
            "text/plain": [
              "tensor([[ 959,    2,    1,   14],\n",
              "        [ 834,    2,    5,   18],\n",
              "        [ 505,    1,    6,   20],\n",
              "        [ 346,    3,    3,    6],\n",
              "        [ 984,    1,    2,    4],\n",
              "        [ 736,    1,    5,    1],\n",
              "        [ 739,    1,    5,    1],\n",
              "        [ 838,    1,    5,   18],\n",
              "        [ 871,    2,    4,    7],\n",
              "        [ 894,    2,    1,   16],\n",
              "        [ 780,    1,    5,    9],\n",
              "        [ 745,    1,    5,    1],\n",
              "        [ 988,    1,    2,    4],\n",
              "        [ 730,    1,    5,    1],\n",
              "        [ 958,    2,    1,   14],\n",
              "        [ 852,    1,    5,   18],\n",
              "        [ 775,    2,    5,    9],\n",
              "        [ 785,    2,    5,    9],\n",
              "        [ 562,    2,    3,   12],\n",
              "        [1000,    2,    2,    4],\n",
              "        [ 739,    2,    5,    1],\n",
              "        [ 739,    1,    5,    1],\n",
              "        [1056,    1,    2,    4],\n",
              "        [ 987,    1,    2,    4],\n",
              "        [ 984,    1,    2,    4],\n",
              "        [ 754,    1,    5,    1],\n",
              "        [ 942,    1,    1,    8],\n",
              "        [ 890,    2,    4,    7],\n",
              "        [1000,    1,    2,    4],\n",
              "        [ 902,    2,    1,   16],\n",
              "        [ 984,    2,    2,    4],\n",
              "        [ 880,    1,    4,    7],\n",
              "        [ 741,    1,    5,    1],\n",
              "        [ 482,    1,    1,   15],\n",
              "        [ 984,    1,    2,    4],\n",
              "        [ 823,    2,    5,    5],\n",
              "        [ 936,    1,    1,    8],\n",
              "        [ 813,    2,    5,    5],\n",
              "        [ 995,    1,    2,    4],\n",
              "        [ 934,    1,    1,    8],\n",
              "        [ 784,    1,    5,    9],\n",
              "        [1003,    2,    2,    4],\n",
              "        [ 974,    2,    1,   14],\n",
              "        [ 785,    1,    5,    9],\n",
              "        [ 728,    1,    5,    1],\n",
              "        [ 776,    2,    5,    9],\n",
              "        [ 941,    2,    1,    8],\n",
              "        [ 771,    2,    5,    9],\n",
              "        [ 978,    2,    2,    4],\n",
              "        [ 777,    1,    5,    9],\n",
              "        [ 739,    2,    5,    1],\n",
              "        [ 728,    2,    5,    1],\n",
              "        [ 770,    2,    5,    9],\n",
              "        [1016,    1,    2,    4],\n",
              "        [ 243,    3,    3,   19],\n",
              "        [ 780,    1,    5,    9],\n",
              "        [ 984,    1,    2,    4],\n",
              "        [ 324,    2,    3,   12],\n",
              "        [ 794,    2,    5,    9],\n",
              "        [ 934,    2,    1,    8],\n",
              "        [ 485,    3,    3,   10],\n",
              "        [ 769,    1,    5,    9],\n",
              "        [ 780,    1,    5,    9],\n",
              "        [ 984,    1,    2,    4]])"
            ]
          },
          "metadata": {},
          "execution_count": 28
        }
      ]
    },
    {
      "cell_type": "code",
      "metadata": {
        "colab": {
          "base_uri": "https://localhost:8080/"
        },
        "id": "N5OViY1yzxps",
        "outputId": "4e36b9fe-4cc6-4ec5-af1f-4e6e59702cd0"
      },
      "source": [
        "batch[1]"
      ],
      "execution_count": 29,
      "outputs": [
        {
          "output_type": "execute_result",
          "data": {
            "text/plain": [
              "tensor([[-1.0703, -0.1012, -0.4515],\n",
              "        [ 0.7243, -1.6479, -0.4515],\n",
              "        [ 0.7243, -0.1012, -0.0900],\n",
              "        [ 0.7243, -0.7524, -0.4515],\n",
              "        [ 0.7243,  0.5501, -0.4515],\n",
              "        [ 0.7243,  1.8527, -0.2708],\n",
              "        [-0.1730,  1.5270,  4.6093],\n",
              "        [-0.1730, -0.3454, -0.2708],\n",
              "        [ 0.7243, -1.4851, -0.4515],\n",
              "        [-1.0703, -1.6479,  2.2596],\n",
              "        [-0.1730,  0.3873, -0.4515],\n",
              "        [ 0.7243,  0.1431,  0.0907],\n",
              "        [-0.1730, -0.5896,  0.6329],\n",
              "        [ 0.7243, -0.0197, -0.4515],\n",
              "        [ 0.7243,  0.0617, -0.4515],\n",
              "        [-1.0703,  0.0617, -0.4515],\n",
              "        [-0.1730,  0.2245, -0.4515],\n",
              "        [-0.1730, -0.5896, -0.4515],\n",
              "        [-0.1730, -0.3454, -0.2708],\n",
              "        [-2.8649,  1.5270, -0.4515],\n",
              "        [-0.1730,  0.7129, -0.4515],\n",
              "        [-1.0703, -1.3223, -0.4515],\n",
              "        [ 0.7243, -0.6710, -0.2708],\n",
              "        [ 0.7243,  2.0969, -0.2708],\n",
              "        [-1.0703,  0.9572, -0.4515],\n",
              "        [-1.0703,  0.4687, -0.4515],\n",
              "        [-1.0703,  1.8527, -0.2708],\n",
              "        [ 0.7243,  2.2597, -0.4515],\n",
              "        [ 0.7243,  1.2014, -0.4515],\n",
              "        [-0.1730,  0.3873, -0.4515],\n",
              "        [-0.1730, -1.1595, -0.4515],\n",
              "        [ 0.7243,  0.5501,  1.7174],\n",
              "        [ 0.7243, -0.8338, -0.4515],\n",
              "        [ 0.7243,  2.0155, -0.2708],\n",
              "        [ 0.7243,  1.6084,  3.5248],\n",
              "        [ 0.7243, -0.3454,  1.8981],\n",
              "        [ 0.7243,  0.7129, -0.4515],\n",
              "        [ 0.7243,  2.4225,  0.6329],\n",
              "        [ 0.7243, -0.8338, -0.4515],\n",
              "        [-0.1730,  0.0617,  0.0907],\n",
              "        [-0.1730,  1.7713, -0.4515],\n",
              "        [ 0.7243, -0.2640,  0.4522],\n",
              "        [ 0.7243, -0.6710, -0.4515],\n",
              "        [ 0.7243, -1.4037,  0.0907],\n",
              "        [ 0.7243,  0.5501, -0.4515],\n",
              "        [ 0.7243,  1.6084, -0.4515],\n",
              "        [-0.1730, -0.4268,  0.0907],\n",
              "        [ 0.7243,  1.2014,  1.1752],\n",
              "        [-0.1730, -1.4037, -0.4515],\n",
              "        [ 0.7243, -0.5896,  0.4522],\n",
              "        [ 0.7243,  2.0969, -0.2708],\n",
              "        [-1.9676,  1.3642, -0.4515],\n",
              "        [ 0.7243, -0.8338,  0.2715],\n",
              "        [ 0.7243,  1.7713,  2.6211],\n",
              "        [ 0.7243, -0.1826, -0.0900],\n",
              "        [ 0.7243, -0.5896, -0.0900],\n",
              "        [-0.1730,  0.1431, -0.4515],\n",
              "        [-0.1730, -0.2640, -0.2708],\n",
              "        [ 0.7243,  0.5501, -0.4515],\n",
              "        [ 0.7243,  1.9341, -0.4515],\n",
              "        [ 0.7243, -0.1826, -0.4515],\n",
              "        [ 0.7243, -0.5082, -0.4515],\n",
              "        [ 0.7243, -0.3454, -0.0900],\n",
              "        [ 0.7243, -0.5082, -0.4515]])"
            ]
          },
          "metadata": {},
          "execution_count": 29
        }
      ]
    },
    {
      "cell_type": "code",
      "metadata": {
        "colab": {
          "base_uri": "https://localhost:8080/"
        },
        "id": "pUjAO2rTz0sW",
        "outputId": "7b6f27b2-22b1-45fd-9f71-675df55a747e"
      },
      "source": [
        "batch[2]"
      ],
      "execution_count": 30,
      "outputs": [
        {
          "output_type": "execute_result",
          "data": {
            "text/plain": [
              "TensorText([[   2,    4,   20,  ...,   80,  149,    9],\n",
              "        [   2,    4,   20,  ...,   17,   79,    9],\n",
              "        [   2,    4,   20,  ...,   15, 1074,   23],\n",
              "        ...,\n",
              "        [   2,    4,   20,  ...,   95,    1,    1],\n",
              "        [   2,    4,   20,  ...,    9,    1,    1],\n",
              "        [   2,    4,   20,  ...,    9,    1,    1]])"
            ]
          },
          "metadata": {},
          "execution_count": 30
        }
      ]
    },
    {
      "cell_type": "code",
      "metadata": {
        "colab": {
          "base_uri": "https://localhost:8080/"
        },
        "id": "xL5jgYjQz3ML",
        "outputId": "2a40036a-c0c1-4783-dc5b-0c181bcfa9ae"
      },
      "source": [
        "batch[3]"
      ],
      "execution_count": 31,
      "outputs": [
        {
          "output_type": "execute_result",
          "data": {
            "text/plain": [
              "TensorCategory([1, 1, 1, 1, 1, 1, 1, 1, 1, 1, 1, 1, 0, 1, 1, 1, 1, 1, 1, 1, 0, 1, 1, 1,\n",
              "        1, 0, 1, 1, 0, 1, 1, 1, 0, 1, 1, 1, 0, 1, 1, 1, 0, 1, 1, 1, 1, 1, 1, 1,\n",
              "        1, 1, 1, 1, 1, 1, 1, 1, 1, 1, 1, 0, 1, 0, 1, 1])"
            ]
          },
          "metadata": {},
          "execution_count": 31
        }
      ]
    },
    {
      "cell_type": "markdown",
      "metadata": {
        "id": "Jr8bUOlG5pO_"
      },
      "source": [
        "### Train+Valid MixedDL"
      ]
    },
    {
      "cell_type": "code",
      "metadata": {
        "id": "mbw5rbae0f1m"
      },
      "source": [
        "train_mixed_dl = MixedDLS(dls_tab[0], dls_txt[0])\n",
        "valid_mixed_dl = MixedDLS(dls_tab[1], dls_txt[1])\n",
        "mixed_dls = DataLoaders(train_mixed_dl, valid_mixed_dl).cuda()"
      ],
      "execution_count": 33,
      "outputs": []
    },
    {
      "cell_type": "markdown",
      "metadata": {
        "id": "kjsgxM2K6S5x"
      },
      "source": [
        "### Joint Model"
      ]
    },
    {
      "cell_type": "code",
      "metadata": {
        "colab": {
          "base_uri": "https://localhost:8080/"
        },
        "id": "jiTOEob357rh",
        "outputId": "6f849ddc-5580-4d5e-d992-878b0d87ede7"
      },
      "source": [
        "o=mixed_dls.one_batch() \n",
        "len(o)"
      ],
      "execution_count": 34,
      "outputs": [
        {
          "output_type": "stream",
          "name": "stderr",
          "text": [
            "Exception ignored in: <generator object MixedDLS.__iter__ at 0x7fd8b9487450>\n",
            "RuntimeError: generator ignored GeneratorExit\n"
          ]
        },
        {
          "output_type": "execute_result",
          "data": {
            "text/plain": [
              "4"
            ]
          },
          "metadata": {},
          "execution_count": 34
        }
      ]
    },
    {
      "cell_type": "code",
      "metadata": {
        "id": "qOOyJs0Z2dSs"
      },
      "source": [
        "\"\"\"def printnorm(self, input, output):\n",
        "     # input is a tuple of packed inputs\n",
        "     # output is a Tensor. output.data is the Tensor we are interested\n",
        "     print('Inside ' + self.__class__.__name__ + ' forward')\n",
        "     print('')\n",
        "     print('input: ', type(input))\n",
        "     print('input[0]: ', type(input[0]))\n",
        "     print('output: ', type(output))\n",
        "     print('')\n",
        "     print('input size:', input[0].size())\n",
        "     print('output size:', output.data.size())\n",
        "     print('output norm:', output.data.norm())\n",
        "\n",
        "\n",
        "learn_tab.model.layers[2][0].register_forward_hook(printnorm)\n",
        "\n",
        "#out = learn_tab.model(o[0], o[1])\"\"\""
      ],
      "execution_count": null,
      "outputs": []
    },
    {
      "cell_type": "markdown",
      "metadata": {
        "id": "vCUZAziQ6gHA"
      },
      "source": [
        "### Pytorch Hooks\n",
        "\n",
        "To extract the input to the layer just before the classifier layer, creat 2 hooks:"
      ]
    },
    {
      "cell_type": "code",
      "metadata": {
        "id": "xbYOkCKd57uS"
      },
      "source": [
        "global glb_tab_logits\n",
        "def get_tab_logits(self, inp, out):\n",
        "    global glb_tab_logits\n",
        "    glb_tab_logits = inp\n",
        "    #return None\n",
        "\n",
        "global glb_txt_logits\n",
        "def get_txt_logits(self, inp, out):\n",
        "    global glb_txt_logits\n",
        "    glb_txt_logits = inp"
      ],
      "execution_count": 35,
      "outputs": []
    },
    {
      "cell_type": "markdown",
      "metadata": {
        "id": "r3D22LDv7Cmr"
      },
      "source": [
        "### Define Multi-Modal Model\n",
        "**Classifiers**\n",
        "Used the default tabular and text classifiers from fastai and just grabbed the logits from each (via pytorch hooks) which are then concated and fed into a linear layer (which is our mixed classifier)\n",
        "\n",
        "**PyTorch Hooks**\n",
        "Note, I'm not sure if I'm grabbing the right thing with the get_tab_logits and get_txt_logits hooks, only grabbing the weight. Its trains ok tho, so maybe its fine"
      ]
    },
    {
      "cell_type": "code",
      "metadata": {
        "id": "Flc2gNQP6nKq"
      },
      "source": [
        "tab_model, txt_model=learn_tab.model, learn_txt.model"
      ],
      "execution_count": 42,
      "outputs": []
    },
    {
      "cell_type": "code",
      "metadata": {
        "colab": {
          "base_uri": "https://localhost:8080/"
        },
        "id": "sXJJawCP6wgl",
        "outputId": "bcb62005-fb27-4c4d-effc-d28252b101c0"
      },
      "source": [
        "tab_model.layers[2][0]"
      ],
      "execution_count": 43,
      "outputs": [
        {
          "output_type": "execute_result",
          "data": {
            "text/plain": [
              "Linear(in_features=100, out_features=2, bias=True)"
            ]
          },
          "metadata": {},
          "execution_count": 43
        }
      ]
    },
    {
      "cell_type": "code",
      "metadata": {
        "colab": {
          "base_uri": "https://localhost:8080/"
        },
        "id": "fZXMSwD07L5q",
        "outputId": "813fdb3b-121e-49f1-ac13-75cbbb65c717"
      },
      "source": [
        "txt_model[1].layers[1][2]"
      ],
      "execution_count": 44,
      "outputs": [
        {
          "output_type": "execute_result",
          "data": {
            "text/plain": [
              "Linear(in_features=50, out_features=2, bias=False)"
            ]
          },
          "metadata": {},
          "execution_count": 44
        }
      ]
    },
    {
      "cell_type": "code",
      "metadata": {
        "id": "_A28Ncgl57xF"
      },
      "source": [
        "num_classes=len(set(df[y_names]))\n",
        "\n",
        "class TabTxt(nn.Module):\n",
        "    def __init__(self, tab_model, txt_model, num_classes=num_classes, device = device): \n",
        "        super(TabTxt, self).__init__()\n",
        "        self.tab_model = tab_model\n",
        "        self.txt_model = txt_model\n",
        "        \n",
        "        self.mixed_cls = nn.Linear(100+50, num_classes)\n",
        "        self.tab_cls = nn.Linear(100, num_classes)\n",
        "        self.txt_cls = nn.Linear(50, num_classes)\n",
        "        \n",
        "        #self.print_handle = self.tab_model.layers[2][0].register_forward_hook(printnorm)\n",
        "        #tab_model.layers[2]\n",
        "        #txt_model[1].layers[1][2]\n",
        "        \n",
        "        self.tab_handle = self.tab_model.layers[2][0].register_forward_hook(get_tab_logits) ### TBD???\n",
        "        self.txt_handle = self.txt_model[1].layers[1][2].register_forward_hook(get_txt_logits) ### TBD???\n",
        "        self.device=device\n",
        "\n",
        "    def remove_my_hooks(self):\n",
        "        self.tab_handle.remove()\n",
        "        self.txt_handle.remove()\n",
        "        #self.print_handle.remove()\n",
        "        return None\n",
        "        \n",
        "    def forward(self, x_cat, x_cont, x_txt):\n",
        "        # Tabular Classifier\n",
        "        #tab_pred = self.tab_model(x_cat.to(self.device), x_cont.to(self.device))        \n",
        "        tab_pred = self.tab_model(x_cat, x_cont)        \n",
        "        \n",
        "        # Text Classifier\n",
        "        #txt_pred = self.txt_model(x_txt.to(self.device))\n",
        "        txt_pred = self.txt_model(x_txt)\n",
        "        \n",
        "        # Logits\n",
        "        tab_logits = glb_tab_logits[0]   # Only grabbling weights, not bias'\n",
        "        txt_logits = glb_txt_logits[0]   # Only grabbling weights, not bias'\n",
        "        mixed = torch.cat((tab_logits, txt_logits), dim=1)\n",
        "        \n",
        "        # Mixed Classifier\n",
        "        mixed_pred = self.mixed_cls(mixed)\n",
        "        return (tab_pred, txt_pred, mixed_pred)"
      ],
      "execution_count": 56,
      "outputs": []
    },
    {
      "cell_type": "markdown",
      "metadata": {
        "id": "Q-yFutfj8RR9"
      },
      "source": [
        "### Gradient Blending, loss function\n",
        "\n",
        "Same as : https://forums.fast.ai/t/gradient-blending-for-multi-modal-models-in-progress/75645/3"
      ]
    },
    {
      "cell_type": "code",
      "metadata": {
        "id": "jKS1nBIm57z-"
      },
      "source": [
        "def ModCELoss(pred, targ, ce=True):\n",
        "    pred = pred.softmax(dim=-1)\n",
        "    targ = targ.flatten().long()\n",
        "    if ce:\n",
        "        loss = F.cross_entropy(pred, targ)\n",
        "    else:\n",
        "        loss = F.binary_cross_entropy_with_logits(pred, targ)\n",
        "    #loss = torch.mean(ce)\n",
        "    return loss\n",
        "\n",
        "class myGradientBlending(nn.Module):\n",
        "    def __init__(self, tab_weight=0.0, txt_weight=0.0, tab_txt_weight=1.0, loss_scale=1.0, use_cel=True):\n",
        "        \"Expects weights for each model, the combined model, and an overall scale\"\n",
        "        super(myGradientBlending, self).__init__()\n",
        "        self.tab_weight = tab_weight\n",
        "        self.txt_weight = txt_weight\n",
        "        self.tab_txt_weight = tab_txt_weight\n",
        "        self.ce =  use_cel\n",
        "        self.scale = loss_scale\n",
        "        \n",
        "    def forward(self, xb, yb):\n",
        "        tab_out, txt_out, tv_out = xb\n",
        "        targ = yb\n",
        "        \"Gathers `self.loss` for each model, weighs, then sums\"\n",
        "        tv_loss = ModCELoss(tv_out, targ, self.ce) * self.scale\n",
        "        t_loss = ModCELoss(tab_out, targ, self.ce) * self.scale\n",
        "        v_loss = ModCELoss(txt_out[0], targ, self.ce) * self.scale ### TBD???\n",
        "        \n",
        "        weighted_t_loss = t_loss * self.tab_weight\n",
        "        weighted_v_loss = v_loss * self.txt_weight\n",
        "        weighted_tv_loss = tv_loss * self.tab_txt_weight\n",
        "        \n",
        "        loss = weighted_t_loss + weighted_v_loss + weighted_tv_loss\n",
        "        return loss"
      ],
      "execution_count": 67,
      "outputs": []
    },
    {
      "cell_type": "markdown",
      "metadata": {
        "id": "uSZSKavytiS-"
      },
      "source": [
        "### testing individual steps"
      ]
    },
    {
      "cell_type": "code",
      "metadata": {
        "id": "icabIM5etmlj"
      },
      "source": [
        "multi_model = TabTxt(learn_tab.model, learn_txt.model)"
      ],
      "execution_count": 68,
      "outputs": []
    },
    {
      "cell_type": "code",
      "metadata": {
        "colab": {
          "base_uri": "https://localhost:8080/"
        },
        "id": "yahEkxEg4_w0",
        "outputId": "5e27c0a8-f003-4cb7-ffb6-4be97d439669"
      },
      "source": [
        "o[0].shape, o[1].shape , o[2].shape"
      ],
      "execution_count": 59,
      "outputs": [
        {
          "output_type": "execute_result",
          "data": {
            "text/plain": [
              "(torch.Size([64, 4]), torch.Size([64, 3]), torch.Size([64, 69]))"
            ]
          },
          "metadata": {},
          "execution_count": 59
        }
      ]
    },
    {
      "cell_type": "code",
      "metadata": {
        "id": "F43QfqRItmt_"
      },
      "source": [
        "#tab_pred, txt_pred, mixed_pred = multi_model(o[0], o[1] , o[2])"
      ],
      "execution_count": 82,
      "outputs": []
    },
    {
      "cell_type": "code",
      "metadata": {
        "id": "5rWmEdhStmxb"
      },
      "source": [
        "#%debug"
      ],
      "execution_count": 83,
      "outputs": []
    },
    {
      "cell_type": "markdown",
      "metadata": {
        "id": "8IETgo9h9LIZ"
      },
      "source": [
        "###  testing learner"
      ]
    },
    {
      "cell_type": "code",
      "metadata": {
        "id": "VYa4K37a572f"
      },
      "source": [
        "\n",
        "def t_accuracy(inp, targ, axis=-1):\n",
        "    \"Compute accuracy with `targ` when `pred` is bs * n_classes\"\n",
        "#     print(inp[0])\n",
        "#     print(inp[0].argmax(dim=axis))\n",
        "#     print(targ)\n",
        "    pred,targ = flatten_check(inp[0].argmax(dim=axis), targ)\n",
        "    return (pred == targ).float().mean()\n",
        "\n",
        "def v_accuracy(inp, targ, axis=-1):\n",
        "    \"Compute accuracy with `targ` when `pred` is bs * n_classes\"\n",
        "    pred,targ = flatten_check(inp[1].argmax(dim=axis), targ)\n",
        "    return (pred == targ).float().mean()\n",
        "\n",
        "def tv_accuracy(inp, targ, axis=-1):\n",
        "    \"Compute accuracy with `targ` when `pred` is bs * n_classes\"\n",
        "    pred,targ = flatten_check(inp[2].argmax(dim=axis), targ)\n",
        "    return (pred == targ).float().mean()\n",
        "\n",
        "def weighted_accuracy(inp, targ, axis=-1, w_t=0.333, w_v=0.333, w_tv=0.333):\n",
        "    t_inp = inp[0] * w_t\n",
        "    v_inp = inp[1] * w_v\n",
        "    tv_inp = inp[2] * w_tv\n",
        "    inp_fin = (t_inp + v_inp + tv_inp)/3\n",
        "    pred,targ = flatten_check(inp_fin.argmax(dim=axis), targ)\n",
        "    return (pred == targ).float().mean()"
      ],
      "execution_count": 69,
      "outputs": []
    },
    {
      "cell_type": "markdown",
      "metadata": {
        "id": "OWKnWwVz9yHe"
      },
      "source": [
        "### Testing: train Tabular learner"
      ]
    },
    {
      "cell_type": "code",
      "metadata": {
        "colab": {
          "base_uri": "https://localhost:8080/",
          "height": 162
        },
        "id": "SNZveS1S9qsG",
        "outputId": "3052ae16-8f54-4caf-ae0d-06476a8910c8"
      },
      "source": [
        "learn_tab = tabular_learner(dls_tab, metrics=metrics)\n",
        "learn_tab.fit_one_cycle(3)"
      ],
      "execution_count": 50,
      "outputs": [
        {
          "output_type": "display_data",
          "data": {
            "text/html": [
              "<table border=\"1\" class=\"dataframe\">\n",
              "  <thead>\n",
              "    <tr style=\"text-align: left;\">\n",
              "      <th>epoch</th>\n",
              "      <th>train_loss</th>\n",
              "      <th>valid_loss</th>\n",
              "      <th>accuracy</th>\n",
              "      <th>precision_score</th>\n",
              "      <th>recall_score</th>\n",
              "      <th>fbeta_score</th>\n",
              "      <th>time</th>\n",
              "    </tr>\n",
              "  </thead>\n",
              "  <tbody>\n",
              "    <tr>\n",
              "      <td>0</td>\n",
              "      <td>0.215196</td>\n",
              "      <td>0.186975</td>\n",
              "      <td>0.931871</td>\n",
              "      <td>0.936314</td>\n",
              "      <td>0.931871</td>\n",
              "      <td>0.933421</td>\n",
              "      <td>00:03</td>\n",
              "    </tr>\n",
              "    <tr>\n",
              "      <td>1</td>\n",
              "      <td>0.153555</td>\n",
              "      <td>0.155288</td>\n",
              "      <td>0.930381</td>\n",
              "      <td>0.933268</td>\n",
              "      <td>0.930381</td>\n",
              "      <td>0.931500</td>\n",
              "      <td>00:03</td>\n",
              "    </tr>\n",
              "    <tr>\n",
              "      <td>2</td>\n",
              "      <td>0.135080</td>\n",
              "      <td>0.160218</td>\n",
              "      <td>0.925484</td>\n",
              "      <td>0.923607</td>\n",
              "      <td>0.925484</td>\n",
              "      <td>0.924236</td>\n",
              "      <td>00:03</td>\n",
              "    </tr>\n",
              "  </tbody>\n",
              "</table>"
            ],
            "text/plain": [
              "<IPython.core.display.HTML object>"
            ]
          },
          "metadata": {}
        }
      ]
    },
    {
      "cell_type": "markdown",
      "metadata": {
        "id": "9iVXSjm598LB"
      },
      "source": [
        "### Testing: train Text learner"
      ]
    },
    {
      "cell_type": "code",
      "metadata": {
        "colab": {
          "base_uri": "https://localhost:8080/"
        },
        "id": "QKAp5vzh-H34",
        "outputId": "94df9821-52a7-4053-d4a8-6fd48c2c6711"
      },
      "source": [
        "learn_txt = text_classifier_learner(dls_txt, AWD_LSTM, drop_mult=0.5, metrics=metrics).to_fp16()\n",
        "#learn_txt.fit_one_cycle(1, 0.02)\n"
      ],
      "execution_count": 70,
      "outputs": [
        {
          "output_type": "stream",
          "name": "stderr",
          "text": [
            "/usr/local/lib/python3.7/dist-packages/torch/cuda/amp/autocast_mode.py:120: UserWarning: torch.cuda.amp.autocast only affects CUDA ops, but CUDA is not available.  Disabling.\n",
            "  warnings.warn(\"torch.cuda.amp.autocast only affects CUDA ops, but CUDA is not available.  Disabling.\")\n"
          ]
        }
      ]
    },
    {
      "cell_type": "markdown",
      "metadata": {
        "id": "b6BOOybxVLW1"
      },
      "source": [
        "### Testing: train mixed learner"
      ]
    },
    {
      "cell_type": "code",
      "metadata": {
        "id": "dVPaL60Q575Q"
      },
      "source": [
        "# Get uni-modal models, ugly but quick way to grab a tabular and vision model\n",
        "txt_model = text_classifier_learner(dls_txt, AWD_LSTM, drop_mult=0.5, metrics=metrics).model\n",
        "tab_model = tabular_learner(dls_tab, metrics=accuracy).model\n",
        "\n",
        "# Create our Multi-Modal model\n",
        "multi_model = TabTxt(tab_model, txt_model)\n",
        "\n",
        "# Set weights for each loss\n",
        "tab_w = 0.15\n",
        "txt_w = 0.6\n",
        "tt_w = 0.25\n",
        "\n",
        "# Initialise Loss\n",
        "gb_loss = myGradientBlending(tab_weight=tab_w, txt_weight=txt_w, tab_txt_weight=tt_w, \n",
        "                             loss_scale=1.0, use_cel=True)\n",
        "\n",
        "# Define accuracy weights\n",
        "w_accuracy = partial(weighted_accuracy, w_t=tab_w, w_v=txt_w, w_tt=tt_w)\n",
        "\n",
        "metrics = [t_accuracy,v_accuracy,tv_accuracy, w_accuracy]\n",
        "cbs=[]"
      ],
      "execution_count": 71,
      "outputs": []
    },
    {
      "cell_type": "code",
      "metadata": {
        "id": "vGdSUE3KBeOE"
      },
      "source": [
        "multi_learn = Learner(mixed_dls, multi_model, gb_loss, cbs=cbs, metrics=metrics)"
      ],
      "execution_count": 72,
      "outputs": []
    },
    {
      "cell_type": "code",
      "metadata": {
        "colab": {
          "base_uri": "https://localhost:8080/",
          "height": 334
        },
        "id": "KL_eEoQC24zF",
        "outputId": "51b69a69-371c-4e2b-fdfa-79d28b869f54"
      },
      "source": [
        "multi_learn.lr_find()"
      ],
      "execution_count": 81,
      "outputs": [
        {
          "output_type": "display_data",
          "data": {
            "text/html": [
              ""
            ],
            "text/plain": [
              "<IPython.core.display.HTML object>"
            ]
          },
          "metadata": {}
        },
        {
          "output_type": "stream",
          "name": "stderr",
          "text": [
            "Exception ignored in: <generator object MixedDLS.__iter__ at 0x7fd8b13a39d0>\n",
            "RuntimeError: generator ignored GeneratorExit\n"
          ]
        },
        {
          "output_type": "execute_result",
          "data": {
            "text/plain": [
              "SuggestedLRs(valley=0.0005754399462603033)"
            ]
          },
          "metadata": {},
          "execution_count": 81
        },
        {
          "output_type": "display_data",
          "data": {
            "image/png": "[encoded data removed]",
            "text/plain": [
              "<Figure size 432x288 with 1 Axes>"
            ]
          },
          "metadata": {
            "needs_background": "light"
          }
        }
      ]
    },
    {
      "cell_type": "code",
      "metadata": {
        "colab": {
          "base_uri": "https://localhost:8080/",
          "height": 115
        },
        "id": "7X6SldCj578A",
        "outputId": "8cb340df-19fc-4905-d7fa-b98625462ee4"
      },
      "source": [
        "multi_learn.fit_one_cycle(3, 0.0005)\n",
        "\n"
      ],
      "execution_count": null,
      "outputs": [
        {
          "output_type": "display_data",
          "data": {
            "text/html": [
              "\n",
              "    <div>\n",
              "        <style>\n",
              "            /* Turns off some styling */\n",
              "            progress {\n",
              "                /* gets rid of default border in Firefox and Opera. */\n",
              "                border: none;\n",
              "                /* Needs to be in here for Safari polyfill so background images work as expected. */\n",
              "                background-size: auto;\n",
              "            }\n",
              "            .progress-bar-interrupted, .progress-bar-interrupted::-webkit-progress-bar {\n",
              "                background: #F44336;\n",
              "            }\n",
              "        </style>\n",
              "      <progress value='0' class='' max='3' style='width:300px; height:20px; vertical-align: middle;'></progress>\n",
              "      0.00% [0/3 00:00<00:00]\n",
              "    </div>\n",
              "    \n",
              "<table border=\"1\" class=\"dataframe\">\n",
              "  <thead>\n",
              "    <tr style=\"text-align: left;\">\n",
              "      <th>epoch</th>\n",
              "      <th>train_loss</th>\n",
              "      <th>valid_loss</th>\n",
              "      <th>t_accuracy</th>\n",
              "      <th>v_accuracy</th>\n",
              "      <th>tv_accuracy</th>\n",
              "      <th>weighted_accuracy</th>\n",
              "      <th>time</th>\n",
              "    </tr>\n",
              "  </thead>\n",
              "  <tbody>\n",
              "  </tbody>\n",
              "</table><p>\n",
              "\n",
              "    <div>\n",
              "        <style>\n",
              "            /* Turns off some styling */\n",
              "            progress {\n",
              "                /* gets rid of default border in Firefox and Opera. */\n",
              "                border: none;\n",
              "                /* Needs to be in here for Safari polyfill so background images work as expected. */\n",
              "                background-size: auto;\n",
              "            }\n",
              "            .progress-bar-interrupted, .progress-bar-interrupted::-webkit-progress-bar {\n",
              "                background: #F44336;\n",
              "            }\n",
              "        </style>\n",
              "      <progress value='14' class='' max='293' style='width:300px; height:20px; vertical-align: middle;'></progress>\n",
              "      4.78% [14/293 00:41<13:53 0.4880]\n",
              "    </div>\n",
              "    "
            ],
            "text/plain": [
              "<IPython.core.display.HTML object>"
            ]
          },
          "metadata": {}
        }
      ]
    },
    {
      "cell_type": "code",
      "metadata": {
        "id": "-PRpDNAVcvDA",
        "colab": {
          "base_uri": "https://localhost:8080/"
        },
        "outputId": "42c4277f-207f-4dd3-ddac-c3b608c1b708"
      },
      "source": [
        "%debug"
      ],
      "execution_count": 79,
      "outputs": [
        {
          "name": "stdout",
          "output_type": "stream",
          "text": [
            "> \u001b[0;32m/usr/local/lib/python3.7/dist-packages/fastai/learner.py\u001b[0m(276)\u001b[0;36mshow_results\u001b[0;34m()\u001b[0m\n",
            "\u001b[0;32m    274 \u001b[0;31m\u001b[0;34m\u001b[0m\u001b[0m\n",
            "\u001b[0m\u001b[0;32m    275 \u001b[0;31m    \u001b[0;32mdef\u001b[0m \u001b[0mshow_results\u001b[0m\u001b[0;34m(\u001b[0m\u001b[0mself\u001b[0m\u001b[0;34m,\u001b[0m \u001b[0mds_idx\u001b[0m\u001b[0;34m=\u001b[0m\u001b[0;36m1\u001b[0m\u001b[0;34m,\u001b[0m \u001b[0mdl\u001b[0m\u001b[0;34m=\u001b[0m\u001b[0;32mNone\u001b[0m\u001b[0;34m,\u001b[0m \u001b[0mmax_n\u001b[0m\u001b[0;34m=\u001b[0m\u001b[0;36m9\u001b[0m\u001b[0;34m,\u001b[0m \u001b[0mshuffle\u001b[0m\u001b[0;34m=\u001b[0m\u001b[0;32mTrue\u001b[0m\u001b[0;34m,\u001b[0m \u001b[0;34m**\u001b[0m\u001b[0mkwargs\u001b[0m\u001b[0;34m)\u001b[0m\u001b[0;34m:\u001b[0m\u001b[0;34m\u001b[0m\u001b[0;34m\u001b[0m\u001b[0m\n",
            "\u001b[0m\u001b[0;32m--> 276 \u001b[0;31m        \u001b[0;32mif\u001b[0m \u001b[0mdl\u001b[0m \u001b[0;32mis\u001b[0m \u001b[0;32mNone\u001b[0m\u001b[0;34m:\u001b[0m \u001b[0mdl\u001b[0m \u001b[0;34m=\u001b[0m \u001b[0mself\u001b[0m\u001b[0;34m.\u001b[0m\u001b[0mdls\u001b[0m\u001b[0;34m[\u001b[0m\u001b[0mds_idx\u001b[0m\u001b[0;34m]\u001b[0m\u001b[0;34m.\u001b[0m\u001b[0mnew\u001b[0m\u001b[0;34m(\u001b[0m\u001b[0mshuffle\u001b[0m\u001b[0;34m=\u001b[0m\u001b[0mshuffle\u001b[0m\u001b[0;34m)\u001b[0m\u001b[0;34m\u001b[0m\u001b[0;34m\u001b[0m\u001b[0m\n",
            "\u001b[0m\u001b[0;32m    277 \u001b[0;31m        \u001b[0mb\u001b[0m \u001b[0;34m=\u001b[0m \u001b[0mdl\u001b[0m\u001b[0;34m.\u001b[0m\u001b[0mone_batch\u001b[0m\u001b[0;34m(\u001b[0m\u001b[0;34m)\u001b[0m\u001b[0;34m\u001b[0m\u001b[0;34m\u001b[0m\u001b[0m\n",
            "\u001b[0m\u001b[0;32m    278 \u001b[0;31m        \u001b[0m_\u001b[0m\u001b[0;34m,\u001b[0m\u001b[0m_\u001b[0m\u001b[0;34m,\u001b[0m\u001b[0mpreds\u001b[0m \u001b[0;34m=\u001b[0m \u001b[0mself\u001b[0m\u001b[0;34m.\u001b[0m\u001b[0mget_preds\u001b[0m\u001b[0;34m(\u001b[0m\u001b[0mdl\u001b[0m\u001b[0;34m=\u001b[0m\u001b[0;34m[\u001b[0m\u001b[0mb\u001b[0m\u001b[0;34m]\u001b[0m\u001b[0;34m,\u001b[0m \u001b[0mwith_decoded\u001b[0m\u001b[0;34m=\u001b[0m\u001b[0;32mTrue\u001b[0m\u001b[0;34m)\u001b[0m\u001b[0;34m\u001b[0m\u001b[0;34m\u001b[0m\u001b[0m\n",
            "\u001b[0m\n",
            "ipdb> dl\n",
            "ipdb> dl==None\n",
            "True\n",
            "ipdb> self.dls[ds_idx].new(shuffle=shuffle)\n",
            "*** AttributeError: 'MixedDLS' object has no attribute 'new'\n",
            "ipdb> exit\n"
          ]
        }
      ]
    },
    {
      "cell_type": "markdown",
      "metadata": {
        "id": "MJqBJRjkWSZZ"
      },
      "source": [
        "pred[0].shape, pred[1].shape, pred[2].shape\n",
        "\n",
        "(torch.Size([64, 2]), torch.Size([64, 133, 400]), torch.Size([64, 133, 400]))\n",
        "\n",
        "targ.shape\n",
        "torch.Size([64])\n",
        "\n",
        "txt_out[0].shape, txt_out[1].shape, txt_out[1].shape\n",
        "(torch.Size([64, 2]), torch.Size([64, 133, 400]), torch.Size([64, 133, 400]))\n",
        "\n",
        "xb[0].shape\n",
        "torch.Size([64, 2])\n",
        "\n",
        "xb[1][0].shape,xb[1][1].shape,xb[1][2].shape,\n",
        "(torch.Size([64, 2]), torch.Size([64, 133, 400]), torch.Size([64, 133, 400]))\n",
        "\n",
        "xb[2].shape\n",
        "torch.Size([64, 2])"
      ]
    },
    {
      "cell_type": "code",
      "metadata": {
        "id": "vkfh_q7kEjYJ",
        "colab": {
          "base_uri": "https://localhost:8080/",
          "height": 179
        },
        "outputId": "e8fdda48-b683-44cc-8609-562776d189aa"
      },
      "source": [
        "lr=list(tab_learn.lr_find())[0]\n",
        "multi_learn.fit_flat_cos(100, cbs=[EarlyStoppingCallback()], lr=lr)"
      ],
      "execution_count": 75,
      "outputs": [
        {
          "output_type": "error",
          "ename": "NameError",
          "evalue": "ignored",
          "traceback": [
            "\u001b[0;31m---------------------------------------------------------------------------\u001b[0m",
            "\u001b[0;31mNameError\u001b[0m                                 Traceback (most recent call last)",
            "\u001b[0;32m<ipython-input-75-89c4e8a5b9b2>\u001b[0m in \u001b[0;36m<module>\u001b[0;34m()\u001b[0m\n\u001b[0;32m----> 1\u001b[0;31m \u001b[0mlr\u001b[0m\u001b[0;34m=\u001b[0m\u001b[0mlist\u001b[0m\u001b[0;34m(\u001b[0m\u001b[0mtab_learn\u001b[0m\u001b[0;34m.\u001b[0m\u001b[0mlr_find\u001b[0m\u001b[0;34m(\u001b[0m\u001b[0;34m)\u001b[0m\u001b[0;34m)\u001b[0m\u001b[0;34m[\u001b[0m\u001b[0;36m0\u001b[0m\u001b[0;34m]\u001b[0m\u001b[0;34m\u001b[0m\u001b[0;34m\u001b[0m\u001b[0m\n\u001b[0m\u001b[1;32m      2\u001b[0m \u001b[0mmulti_learn\u001b[0m\u001b[0;34m.\u001b[0m\u001b[0mfit_flat_cos\u001b[0m\u001b[0;34m(\u001b[0m\u001b[0;36m100\u001b[0m\u001b[0;34m,\u001b[0m \u001b[0mcbs\u001b[0m\u001b[0;34m=\u001b[0m\u001b[0;34m[\u001b[0m\u001b[0mEarlyStoppingCallback\u001b[0m\u001b[0;34m(\u001b[0m\u001b[0;34m)\u001b[0m\u001b[0;34m]\u001b[0m\u001b[0;34m,\u001b[0m \u001b[0mlr\u001b[0m\u001b[0;34m=\u001b[0m\u001b[0mlr\u001b[0m\u001b[0;34m)\u001b[0m\u001b[0;34m\u001b[0m\u001b[0;34m\u001b[0m\u001b[0m\n",
            "\u001b[0;31mNameError\u001b[0m: name 'tab_learn' is not defined"
          ]
        }
      ]
    },
    {
      "cell_type": "code",
      "metadata": {
        "id": "J05otx6h_ZWw"
      },
      "source": [
        "# Remove hooks from model (not sure if this is working)\n",
        "multi_learn.model.remove_my_hooks()"
      ],
      "execution_count": null,
      "outputs": []
    },
    {
      "cell_type": "code",
      "metadata": {
        "id": "7lHDQ1OVEKk0"
      },
      "source": [
        "multi_learn.recorder.plot_loss()"
      ],
      "execution_count": null,
      "outputs": []
    },
    {
      "cell_type": "code",
      "metadata": {
        "id": "HHDiO71Q_wLR"
      },
      "source": [
        ""
      ],
      "execution_count": null,
      "outputs": []
    }
  ]
}